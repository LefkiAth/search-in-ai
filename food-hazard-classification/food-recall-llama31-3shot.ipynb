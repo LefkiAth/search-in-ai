{
  "cells": [
    {
      "cell_type": "markdown",
      "metadata": {
        "id": "94TOJwPIdkIu"
      },
      "source": [
        "### Prerequisites:\n",
        "\n",
        " - We will use [pandas](https://pandas.pydata.org/docs/) for data processing,\n",
        " - and Meta's open-source LLM [Llama 3.1](https://huggingface.co/meta-llama/Llama-3.1-8B-Instruct) for prompting and few-shot learning.\n",
        "- All experiments will be performed on the [Food Recall Incidents Dataset](https://doi.org/10.5281/zenodo.10891602)."
      ]
    },
    {
      "cell_type": "code",
      "execution_count": 47,
      "metadata": {
        "id": "tVbl18cTdkIv"
      },
      "outputs": [],
      "source": [
        "%%capture\n",
        "# install dependecies:\n",
        "!pip install numpy torch pandas scikit-learn transformers tqdm\n",
        "# download dataset:\n",
        "!wget https://zenodo.org/records/10891602/files/food_recall_incidents.csv"
      ]
    },
    {
      "cell_type": "markdown",
      "metadata": {
        "id": "nicCrRowdkIw"
      },
      "source": [
        "### Data processing"
      ]
    },
    {
      "cell_type": "code",
      "execution_count": 48,
      "metadata": {
        "colab": {
          "base_uri": "https://localhost:8080/",
          "height": 115
        },
        "id": "IoyLzjt9dkIw",
        "outputId": "f7cd1e40-29df-4309-a1c1-ec592dbc9f04"
      },
      "outputs": [
        {
          "output_type": "execute_result",
          "data": {
            "text/plain": [
              "      year  month  day                                              title  \\\n",
              "4907  2021      3   26  GUT&GÜNSTIG Tiefkühl-Beerenmischung mit Sauerk...   \n",
              "\n",
              "                 product       product-category product-title          hazard  \\\n",
              "4907  frozen berries mix  fruits and vegetables           NaN  metal fragment   \n",
              "\n",
              "     hazard-category hazard-title language country  \n",
              "4907  foreign bodies          NaN       de      de  "
            ],
            "text/html": [
              "\n",
              "  <div id=\"df-93a0c7d2-e9c7-4c84-8405-d7e65a8abd12\" class=\"colab-df-container\">\n",
              "    <div>\n",
              "<style scoped>\n",
              "    .dataframe tbody tr th:only-of-type {\n",
              "        vertical-align: middle;\n",
              "    }\n",
              "\n",
              "    .dataframe tbody tr th {\n",
              "        vertical-align: top;\n",
              "    }\n",
              "\n",
              "    .dataframe thead th {\n",
              "        text-align: right;\n",
              "    }\n",
              "</style>\n",
              "<table border=\"1\" class=\"dataframe\">\n",
              "  <thead>\n",
              "    <tr style=\"text-align: right;\">\n",
              "      <th></th>\n",
              "      <th>year</th>\n",
              "      <th>month</th>\n",
              "      <th>day</th>\n",
              "      <th>title</th>\n",
              "      <th>product</th>\n",
              "      <th>product-category</th>\n",
              "      <th>product-title</th>\n",
              "      <th>hazard</th>\n",
              "      <th>hazard-category</th>\n",
              "      <th>hazard-title</th>\n",
              "      <th>language</th>\n",
              "      <th>country</th>\n",
              "    </tr>\n",
              "  </thead>\n",
              "  <tbody>\n",
              "    <tr>\n",
              "      <th>4907</th>\n",
              "      <td>2021</td>\n",
              "      <td>3</td>\n",
              "      <td>26</td>\n",
              "      <td>GUT&amp;GÜNSTIG Tiefkühl-Beerenmischung mit Sauerk...</td>\n",
              "      <td>frozen berries mix</td>\n",
              "      <td>fruits and vegetables</td>\n",
              "      <td>NaN</td>\n",
              "      <td>metal fragment</td>\n",
              "      <td>foreign bodies</td>\n",
              "      <td>NaN</td>\n",
              "      <td>de</td>\n",
              "      <td>de</td>\n",
              "    </tr>\n",
              "  </tbody>\n",
              "</table>\n",
              "</div>\n",
              "    <div class=\"colab-df-buttons\">\n",
              "\n",
              "  <div class=\"colab-df-container\">\n",
              "    <button class=\"colab-df-convert\" onclick=\"convertToInteractive('df-93a0c7d2-e9c7-4c84-8405-d7e65a8abd12')\"\n",
              "            title=\"Convert this dataframe to an interactive table.\"\n",
              "            style=\"display:none;\">\n",
              "\n",
              "  <svg xmlns=\"http://www.w3.org/2000/svg\" height=\"24px\" viewBox=\"0 -960 960 960\">\n",
              "    <path d=\"M120-120v-720h720v720H120Zm60-500h600v-160H180v160Zm220 220h160v-160H400v160Zm0 220h160v-160H400v160ZM180-400h160v-160H180v160Zm440 0h160v-160H620v160ZM180-180h160v-160H180v160Zm440 0h160v-160H620v160Z\"/>\n",
              "  </svg>\n",
              "    </button>\n",
              "\n",
              "  <style>\n",
              "    .colab-df-container {\n",
              "      display:flex;\n",
              "      gap: 12px;\n",
              "    }\n",
              "\n",
              "    .colab-df-convert {\n",
              "      background-color: #E8F0FE;\n",
              "      border: none;\n",
              "      border-radius: 50%;\n",
              "      cursor: pointer;\n",
              "      display: none;\n",
              "      fill: #1967D2;\n",
              "      height: 32px;\n",
              "      padding: 0 0 0 0;\n",
              "      width: 32px;\n",
              "    }\n",
              "\n",
              "    .colab-df-convert:hover {\n",
              "      background-color: #E2EBFA;\n",
              "      box-shadow: 0px 1px 2px rgba(60, 64, 67, 0.3), 0px 1px 3px 1px rgba(60, 64, 67, 0.15);\n",
              "      fill: #174EA6;\n",
              "    }\n",
              "\n",
              "    .colab-df-buttons div {\n",
              "      margin-bottom: 4px;\n",
              "    }\n",
              "\n",
              "    [theme=dark] .colab-df-convert {\n",
              "      background-color: #3B4455;\n",
              "      fill: #D2E3FC;\n",
              "    }\n",
              "\n",
              "    [theme=dark] .colab-df-convert:hover {\n",
              "      background-color: #434B5C;\n",
              "      box-shadow: 0px 1px 3px 1px rgba(0, 0, 0, 0.15);\n",
              "      filter: drop-shadow(0px 1px 2px rgba(0, 0, 0, 0.3));\n",
              "      fill: #FFFFFF;\n",
              "    }\n",
              "  </style>\n",
              "\n",
              "    <script>\n",
              "      const buttonEl =\n",
              "        document.querySelector('#df-93a0c7d2-e9c7-4c84-8405-d7e65a8abd12 button.colab-df-convert');\n",
              "      buttonEl.style.display =\n",
              "        google.colab.kernel.accessAllowed ? 'block' : 'none';\n",
              "\n",
              "      async function convertToInteractive(key) {\n",
              "        const element = document.querySelector('#df-93a0c7d2-e9c7-4c84-8405-d7e65a8abd12');\n",
              "        const dataTable =\n",
              "          await google.colab.kernel.invokeFunction('convertToInteractive',\n",
              "                                                    [key], {});\n",
              "        if (!dataTable) return;\n",
              "\n",
              "        const docLinkHtml = 'Like what you see? Visit the ' +\n",
              "          '<a target=\"_blank\" href=https://colab.research.google.com/notebooks/data_table.ipynb>data table notebook</a>'\n",
              "          + ' to learn more about interactive tables.';\n",
              "        element.innerHTML = '';\n",
              "        dataTable['output_type'] = 'display_data';\n",
              "        await google.colab.output.renderOutput(dataTable, element);\n",
              "        const docLink = document.createElement('div');\n",
              "        docLink.innerHTML = docLinkHtml;\n",
              "        element.appendChild(docLink);\n",
              "      }\n",
              "    </script>\n",
              "  </div>\n",
              "\n",
              "\n",
              "    </div>\n",
              "  </div>\n"
            ],
            "application/vnd.google.colaboratory.intrinsic+json": {
              "type": "dataframe",
              "repr_error": "0"
            }
          },
          "metadata": {},
          "execution_count": 48
        }
      ],
      "source": [
        "import pandas as pd\n",
        "\n",
        "data = pd.read_csv('food_recall_incidents.csv', index_col=0)\n",
        "data.sample()"
      ]
    },
    {
      "cell_type": "markdown",
      "metadata": {
        "id": "0qVzQH-QqVh1"
      },
      "source": [
        "We use the `hazard-category` from the `title` of the food recall as the target label to predict, but others c/should be tried as well (e.g., `product-category`):"
      ]
    },
    {
      "cell_type": "code",
      "execution_count": 49,
      "metadata": {
        "id": "fbLufFw4qWCT"
      },
      "outputs": [],
      "source": [
        "# select input and label from data:\n",
        "X = data['title'].to_numpy()\n",
        "y = data['hazard-category'].to_numpy()"
      ]
    },
    {
      "cell_type": "code",
      "execution_count": 58,
      "metadata": {
        "colab": {
          "base_uri": "https://localhost:8080/"
        },
        "id": "7MHsECIMdkIx",
        "outputId": "7fe7f09a-4272-4443-ae25-c6bed12ddac0"
      },
      "outputs": [
        {
          "output_type": "stream",
          "name": "stdout",
          "text": [
            "Size of test set :  599\n",
            "Size of train set:  5385\n",
            "Classes:  10\n"
          ]
        }
      ],
      "source": [
        "from sklearn.model_selection import train_test_split\n",
        "\n",
        "# create test set:\n",
        "X_train, X_test, y_train, y_test = train_test_split(X, y, test_size=.1, random_state=42, shuffle=True, stratify=y)\n",
        "print('Size of test set : ', X_test.shape[0])\n",
        "print('Size of train set: ', X_train.shape[0])\n",
        "classes = set(y_train)\n",
        "print('Classes: ', len(classes))"
      ]
    },
    {
      "cell_type": "markdown",
      "metadata": {
        "id": "eUUmLpWddkIx"
      },
      "source": [
        "### Sparse Frquency-based Embeddings for Similarity"
      ]
    },
    {
      "cell_type": "markdown",
      "metadata": {
        "id": "rMV4DC7tokui"
      },
      "source": [
        "We import TfidfVectorizer from `sklearn.feature_extraction.text` and use it to create and fit a TF-IDF input embedding on the `X_train` data. Since `TfidfVectorizer.transform(...)` returns a sparse matrix."
      ]
    },
    {
      "cell_type": "code",
      "execution_count": 52,
      "metadata": {
        "id": "b1dvbfa5h9JI"
      },
      "outputs": [],
      "source": [
        "from sklearn.feature_extraction.text import TfidfVectorizer\n",
        "# create and train input embedding:\n",
        "tfidf = TfidfVectorizer().fit(X_train)"
      ]
    },
    {
      "cell_type": "code",
      "source": [
        "from sklearn.metrics.pairwise import cosine_similarity\n",
        "import numpy as np\n",
        "\n",
        "def fetch_most_similar_train_vectors(test_vector, train_vectors, k=1):\n",
        "    \"\"\"\n",
        "    For a given test TF-IDF vector, find the k most similar train TF-IDF vectors\n",
        "    using cosine similarity.\n",
        "\n",
        "    Args:\n",
        "        test_vector: The TF-IDF vector for a single test instance.\n",
        "        train_vectors: A sparse matrix of TF-IDF vectors for the training set.\n",
        "        k: The number of most similar vectors to return.\n",
        "\n",
        "    Returns:\n",
        "        A list of indices of the k most similar train vectors.\n",
        "    \"\"\"\n",
        "    # Calculate cosine similarity between the test vector and all train vectors\n",
        "    # Reshape test_vector to be a 2D array for cosine_similarity\n",
        "    similarities = cosine_similarity(test_vector.reshape(1, -1), train_vectors)\n",
        "\n",
        "    # Get the indices of the top k most similar vectors\n",
        "    # Use argsort to get indices in ascending order, then slice the last k\n",
        "    # Flatten similarities to a 1D array for argsort\n",
        "    most_similar_indices = np.argsort(similarities.flatten())[-k:]\n",
        "\n",
        "    return most_similar_indices[::-1] # Return indices in descending order of similarity"
      ],
      "metadata": {
        "id": "epQ9tqH1zcCB"
      },
      "execution_count": 53,
      "outputs": []
    },
    {
      "cell_type": "code",
      "source": [
        "X_train_tfidf = tfidf.transform(X_train)\n",
        "X_test_tfidf = tfidf.transform(X_test)\n",
        "\n",
        "t = X_test_tfidf[0] # test text\n",
        "n = 3 # shots\n",
        "similar_indices = fetch_most_similar_train_vectors(t, X_train_tfidf, k=n)\n",
        "print(f\"Most similar train indices for the first test sample\\n'{X_test[0]}' (n={n}):{similar_indices}\\n\")\n",
        "for i, idx in enumerate(similar_indices): print(i+1, X_train[idx])"
      ],
      "metadata": {
        "id": "OFHgLU9rz5F5",
        "outputId": "38964f72-1799-4286-9063-b208c388534a",
        "colab": {
          "base_uri": "https://localhost:8080/"
        }
      },
      "execution_count": 54,
      "outputs": [
        {
          "output_type": "stream",
          "name": "stdout",
          "text": [
            "Most similar train indices for the first test sample\n",
            "'Recall of a Batch of The Proper Dairy Company Irish Farm Halloumi due to the Presence of Listeria monocytogenes' (n=3):[4554 2975 1808]\n",
            "\n",
            "1 Recall of a Batch of Burren Smokehouse Smoked Irish Organic Salmon Due to the Presence of Listeria monocytogenes\n",
            "2 Recall of a Batch of Bosna Smoked Roast Beef Due to the Presence of Listeria monocytogenes\n",
            "3 Recall of a Batch of Marcel Urechi Snacks due to the Presence of Listeria monocytogenes\n"
          ]
        }
      ]
    },
    {
      "cell_type": "markdown",
      "metadata": {
        "id": "SyqodIIqw6E3"
      },
      "source": [
        "### Instantiate Llama"
      ]
    },
    {
      "cell_type": "markdown",
      "metadata": {
        "id": "vQNERTiou3P1"
      },
      "source": [
        "In order to be able to use huggingface's Llama 3.1 models, we first need to log in to huggingface (you can request access to the model [here](https://huggingface.co/meta-llama/Llama-3.1-8B-Instruct))."
      ]
    },
    {
      "cell_type": "code",
      "execution_count": 15,
      "metadata": {
        "colab": {
          "base_uri": "https://localhost:8080/"
        },
        "id": "y0WB5Pod2ugE",
        "outputId": "d9a52b17-fc6d-47b8-d083-88192bf5f7ee"
      },
      "outputs": [
        {
          "name": "stdout",
          "output_type": "stream",
          "text": [
            "Enter your huggingface API-key:··········\n"
          ]
        }
      ],
      "source": [
        "import getpass\n",
        "from huggingface_hub import login\n",
        "login(getpass.getpass('Enter your huggingface API-key:'))"
      ]
    },
    {
      "cell_type": "markdown",
      "metadata": {
        "id": "xJ5NkTyJvdSO"
      },
      "source": [
        "In this tutorial we will use the standard huggingface textgeneration pipeline (compressed to 16 bit floating point weights) for the instruction tuned 8B parameter version of Llama 3.1."
      ]
    },
    {
      "cell_type": "code",
      "execution_count": 54,
      "metadata": {
        "id": "ucXwxitPxFR8"
      },
      "outputs": [],
      "source": [
        "%%capture\n",
        "import transformers\n",
        "import torch\n",
        "\n",
        "# create llm pipeline:\n",
        "llm = transformers.pipeline(\n",
        "    \"text-generation\",\n",
        "    model=\"meta-llama/Meta-Llama-3.1-8B-Instruct\",\n",
        "    model_kwargs={\"torch_dtype\": torch.bfloat16},\n",
        "    device_map=\"auto\"\n",
        ")\n",
        "\n",
        "# Get special tokens for later:\n",
        "bos_token_id = llm.tokenizer.convert_tokens_to_ids('<|begin_of_text|>')\n",
        "eos_token_id = llm.tokenizer.convert_tokens_to_ids('<|eot_id|>')\n",
        "pad_token_id = llm.tokenizer.convert_tokens_to_ids('<|eot_id|>')"
      ]
    },
    {
      "cell_type": "markdown",
      "metadata": {
        "id": "hP_tAmMA2-Dx"
      },
      "source": [
        "### Few-shot learning"
      ]
    },
    {
      "cell_type": "markdown",
      "metadata": {
        "id": "oh-ZPe28w4_6"
      },
      "source": [
        "Generate a prompt for classification using a given text and $n$ labeled examples.\n"
      ]
    },
    {
      "cell_type": "code",
      "execution_count": 68,
      "metadata": {
        "colab": {
          "base_uri": "https://localhost:8080/"
        },
        "id": "d6SPiUiR3FYX",
        "outputId": "6e53a675-235e-4338-81a6-ed949e572c95"
      },
      "outputs": [
        {
          "output_type": "stream",
          "name": "stdout",
          "text": [
            "We classify food hazard labels from texts, as in the following examples:\n",
            "\n",
            "\"Recall of a Batch of Burren Smokehouse Smoked Irish Organic Salmon Due to the Presence of Listeria monocytogenes\": biological\n",
            "\"Recall of a Batch of Bosna Smoked Roast Beef Due to the Presence of Listeria monocytogenes\": biological\n",
            "\"Recall of a Batch of Marcel Urechi Snacks due to the Presence of Listeria monocytogenes\": biological\n",
            "\n",
            "The valid labels are: allergens, other hazard, organoleptic aspects, chemical, migration, biological, packaging defect, food additives and flavourings, foreign bodies, fraud.\n",
            "Predict the correct label for the following text, but generate only the label and no other text.\n",
            "\n",
            "\"Recall of a Batch of The Proper Dairy Company Irish Farm Halloumi due to the Presence of Listeria monocytogenes\": \n"
          ]
        }
      ],
      "source": [
        "def get_prompt(text, shots):\n",
        "    prompt = 'We classify food hazard labels from texts, as in the following examples:\\n'\n",
        "    for x,y in shots: prompt += f'\\n\"{x}\": {y}'\n",
        "    return {\"role\": \"user\", \"content\": f'{prompt}\\n\\nThe valid labels are: {\", \".join(classes)}.\\nPredict the correct label for the following text, but generate only the label and no other text.\\n\\n\"{text}\": '}\n",
        "\n",
        "shots_idxs = fetch_most_similar_train_vectors(X_test_tfidf[0], X_train_tfidf, k=n)\n",
        "shots = [(X_train[idx], y_train[idx]) for idx in shots_idxs]\n",
        "prompt = get_prompt(X_test[0], shots)[\"content\"]\n",
        "print(prompt)"
      ]
    },
    {
      "cell_type": "code",
      "source": [
        "from tqdm.notebook import tqdm\n",
        "\n",
        "def few_shot_learning_batch(test, test_tfidf, train, train_tfidf, y_train, n=3):\n",
        "  outputs = []\n",
        "  for i,t in tqdm(enumerate(X_test_tfidf)):\n",
        "      shots_idxs = fetch_most_similar_train_vectors(t, train_tfidf, k=n)\n",
        "      shots = [(train[idx], y_train[idx]) for idx in shots_idxs]\n",
        "      prompt = get_prompt(test[i], shots)[\"content\"]\n",
        "      response = llm([prompt],\n",
        "                    bos_token_id=bos_token_id,\n",
        "                    eos_token_id=eos_token_id,\n",
        "                    pad_token_id=pad_token_id,\n",
        "                    max_new_tokens=1,\n",
        "                    do_sample=False,\n",
        "                    temperature=None,\n",
        "                    top_p=None)\n",
        "      label = response[0][0][\"generated_text\"].split(':')[-1].strip()\n",
        "      outputs.append(label)\n",
        "  return outputs\n",
        "\n",
        "predictions = few_shot_learning_batch(X_test, X_test_tfidf, X_train, X_train_tfidf, y_train, n=3)"
      ],
      "metadata": {
        "id": "PyHhsM-a9KWi"
      },
      "execution_count": 70,
      "outputs": []
    },
    {
      "cell_type": "code",
      "source": [
        "predictions[:10]"
      ],
      "metadata": {
        "id": "YwfpygiLBME-",
        "outputId": "687c2242-d05e-48d0-8de2-d0abc58456a5",
        "colab": {
          "base_uri": "https://localhost:8080/"
        }
      },
      "execution_count": 71,
      "outputs": [
        {
          "output_type": "execute_result",
          "data": {
            "text/plain": [
              "['biological',\n",
              " 'allerg',\n",
              " 'biological',\n",
              " 'biological',\n",
              " 'allerg',\n",
              " 'biological',\n",
              " 'allerg',\n",
              " 'organ',\n",
              " 'biological',\n",
              " 'chemical']"
            ]
          },
          "metadata": {},
          "execution_count": 71
        }
      ]
    },
    {
      "cell_type": "code",
      "source": [
        "from sklearn.metrics import classification_report, accuracy_score, confusion_matrix\n",
        "import matplotlib.pyplot as plt\n",
        "import seaborn as sns\n",
        "\n",
        "def clean(labels, classes=classes, lim=4):\n",
        "  labels = [lbl if lbl in classes else 'other' for lbl in labels]\n",
        "  labels_short = [lbl[:lim] for lbl in labels]\n",
        "  return labels_short\n",
        "\n",
        "print(\"Classification Report:\\n\", classification_report(clean(y_test), clean(predictions), zero_division=0))\n",
        "print(\"Accuracy:\", accuracy_score(clean(y_test), clean(predictions)))\n",
        "\n",
        "# Plot confusion matrix\n",
        "cm = confusion_matrix(y_test, predictions)\n",
        "plt.figure(figsize=(10, 7))\n",
        "sns.heatmap(cm, annot=True, fmt='d', cmap='Blues')\n",
        "plt.xlabel('Predicted'); plt.ylabel('Actual'); plt.title('Confusion Matrix')"
      ],
      "metadata": {
        "id": "osiETZ-fAda7",
        "outputId": "2b5a07cc-4758-41dd-ec1e-40d3e008ba37",
        "colab": {
          "base_uri": "https://localhost:8080/",
          "height": 998
        }
      },
      "execution_count": 76,
      "outputs": [
        {
          "output_type": "stream",
          "name": "stdout",
          "text": [
            "Classification Report:\n",
            "               precision    recall  f1-score   support\n",
            "\n",
            "        alle       0.00      0.00      0.00       196\n",
            "        biol       0.68      0.88      0.77       202\n",
            "        chem       0.76      0.58      0.66        50\n",
            "        food       0.00      0.00      0.00         3\n",
            "        fore       0.00      0.00      0.00        77\n",
            "        frau       0.62      0.44      0.51        41\n",
            "        migr       0.00      0.00      0.00         1\n",
            "        orga       0.00      0.00      0.00         6\n",
            "        othe       0.02      0.40      0.04        15\n",
            "        pack       0.00      0.00      0.00         8\n",
            "\n",
            "    accuracy                           0.39       599\n",
            "   macro avg       0.21      0.23      0.20       599\n",
            "weighted avg       0.34      0.39      0.35       599\n",
            "\n",
            "Accuracy: 0.38564273789649417\n"
          ]
        },
        {
          "output_type": "execute_result",
          "data": {
            "text/plain": [
              "Text(0.5, 1.0, 'Confusion Matrix')"
            ]
          },
          "metadata": {},
          "execution_count": 76
        },
        {
          "output_type": "display_data",
          "data": {
            "text/plain": [
              "<Figure size 1000x700 with 2 Axes>"
            ],
            "image/png": "[encoded data removed]"
          },
          "metadata": {}
        }
      ]
    },
    {
      "cell_type": "code",
      "source": [],
      "metadata": {
        "id": "v0nJOAIDAhlx"
      },
      "execution_count": null,
      "outputs": []
    }
  ],
  "metadata": {
    "colab": {
      "provenance": [],
      "machine_shape": "hm",
      "gpuType": "L4"
    },
    "kernelspec": {
      "display_name": "Python 3",
      "name": "python3"
    },
    "language_info": {
      "codemirror_mode": {
        "name": "ipython",
        "version": 3
      },
      "file_extension": ".py",
      "mimetype": "text/x-python",
      "name": "python",
      "nbconvert_exporter": "python",
      "pygments_lexer": "ipython3",
      "version": "3.10.12"
    },
    "accelerator": "GPU"
  },
  "nbformat": 4,
  "nbformat_minor": 0
}