{
  "cells": [
    {
      "cell_type": "code",
      "execution_count": null,
      "id": "1641660a",
      "metadata": {
        "id": "1641660a",
        "outputId": "822fcab3-bde8-479b-88f0-9273b8006766"
      },
      "outputs": [
        {
          "name": "stderr",
          "output_type": "stream",
          "text": [
            "/Users/pckiousis/subtask2_env/lib/python3.12/site-packages/tqdm/auto.py:21: TqdmWarning: IProgress not found. Please update jupyter and ipywidgets. See https://ipywidgets.readthedocs.io/en/stable/user_install.html\n",
            "  from .autonotebook import tqdm as notebook_tqdm\n"
          ]
        },
        {
          "data": {
            "text/html": [
              "<div>\n",
              "<style scoped>\n",
              "    .dataframe tbody tr th:only-of-type {\n",
              "        vertical-align: middle;\n",
              "    }\n",
              "\n",
              "    .dataframe tbody tr th {\n",
              "        vertical-align: top;\n",
              "    }\n",
              "\n",
              "    .dataframe thead th {\n",
              "        text-align: right;\n",
              "    }\n",
              "</style>\n",
              "<table border=\"1\" class=\"dataframe\">\n",
              "  <thead>\n",
              "    <tr style=\"text-align: right;\">\n",
              "      <th></th>\n",
              "      <th>member_name</th>\n",
              "      <th>sitting_date</th>\n",
              "      <th>parliamentary_period</th>\n",
              "      <th>parliamentary_session</th>\n",
              "      <th>parliamentary_sitting</th>\n",
              "      <th>political_party</th>\n",
              "      <th>speaker_info</th>\n",
              "      <th>speech</th>\n",
              "    </tr>\n",
              "  </thead>\n",
              "  <tbody>\n",
              "    <tr>\n",
              "      <th>0</th>\n",
              "      <td>κρητικος νικολαου παναγιωτης</td>\n",
              "      <td>1989-07-03</td>\n",
              "      <td>period 5</td>\n",
              "      <td>session 1</td>\n",
              "      <td>sitting 1</td>\n",
              "      <td>πανελληνιο σοσιαλιστικο κινημα</td>\n",
              "      <td>προεδρευων</td>\n",
              "      <td>Παρακαλείται ο Γραμματέας κ. Βουλγαράκης να σ...</td>\n",
              "    </tr>\n",
              "    <tr>\n",
              "      <th>1</th>\n",
              "      <td>κρητικος νικολαου παναγιωτης</td>\n",
              "      <td>1989-07-03</td>\n",
              "      <td>period 5</td>\n",
              "      <td>session 1</td>\n",
              "      <td>sitting 1</td>\n",
              "      <td>πανελληνιο σοσιαλιστικο κινημα</td>\n",
              "      <td>προεδρευων</td>\n",
              "      <td>Παρακαλείται ο κύριος Γραμματέας να συνοδεύσε...</td>\n",
              "    </tr>\n",
              "    <tr>\n",
              "      <th>2</th>\n",
              "      <td>κρητικος νικολαου παναγιωτης</td>\n",
              "      <td>1989-07-03</td>\n",
              "      <td>period 5</td>\n",
              "      <td>session 1</td>\n",
              "      <td>sitting 1</td>\n",
              "      <td>πανελληνιο σοσιαλιστικο κινημα</td>\n",
              "      <td>προεδρευων</td>\n",
              "      <td>Κύριοι συνάδελφοι, παρακαλώ τη Βουλή να εξουσ...</td>\n",
              "    </tr>\n",
              "    <tr>\n",
              "      <th>3</th>\n",
              "      <td>NaN</td>\n",
              "      <td>1989-07-03</td>\n",
              "      <td>period 5</td>\n",
              "      <td>session 1</td>\n",
              "      <td>sitting 1</td>\n",
              "      <td>βουλη</td>\n",
              "      <td>βουλευτης/ες</td>\n",
              "      <td>Μάλιστα, μάλιστα.</td>\n",
              "    </tr>\n",
              "    <tr>\n",
              "      <th>4</th>\n",
              "      <td>κρητικος νικολαου παναγιωτης</td>\n",
              "      <td>1989-07-03</td>\n",
              "      <td>period 5</td>\n",
              "      <td>session 1</td>\n",
              "      <td>sitting 1</td>\n",
              "      <td>πανελληνιο σοσιαλιστικο κινημα</td>\n",
              "      <td>προεδρευων</td>\n",
              "      <td>Η Βουλή παρέσχε τη ζητηθείσα εξουσιοδότηση. Μ...</td>\n",
              "    </tr>\n",
              "  </tbody>\n",
              "</table>\n",
              "</div>"
            ],
            "text/plain": [
              "                    member_name sitting_date parliamentary_period  \\\n",
              "0  κρητικος νικολαου παναγιωτης   1989-07-03             period 5   \n",
              "1  κρητικος νικολαου παναγιωτης   1989-07-03             period 5   \n",
              "2  κρητικος νικολαου παναγιωτης   1989-07-03             period 5   \n",
              "3                           NaN   1989-07-03             period 5   \n",
              "4  κρητικος νικολαου παναγιωτης   1989-07-03             period 5   \n",
              "\n",
              "  parliamentary_session parliamentary_sitting                 political_party  \\\n",
              "0             session 1             sitting 1  πανελληνιο σοσιαλιστικο κινημα   \n",
              "1             session 1             sitting 1  πανελληνιο σοσιαλιστικο κινημα   \n",
              "2             session 1             sitting 1  πανελληνιο σοσιαλιστικο κινημα   \n",
              "3             session 1             sitting 1                           βουλη   \n",
              "4             session 1             sitting 1  πανελληνιο σοσιαλιστικο κινημα   \n",
              "\n",
              "   speaker_info                                             speech  \n",
              "0    προεδρευων   Παρακαλείται ο Γραμματέας κ. Βουλγαράκης να σ...  \n",
              "1    προεδρευων   Παρακαλείται ο κύριος Γραμματέας να συνοδεύσε...  \n",
              "2    προεδρευων   Κύριοι συνάδελφοι, παρακαλώ τη Βουλή να εξουσ...  \n",
              "3  βουλευτης/ες                                  Μάλιστα, μάλιστα.  \n",
              "4    προεδρευων   Η Βουλή παρέσχε τη ζητηθείσα εξουσιοδότηση. Μ...  "
            ]
          },
          "execution_count": 2,
          "metadata": {},
          "output_type": "execute_result"
        }
      ],
      "source": [
        "from datasets import load_dataset\n",
        "import pandas as pd\n",
        "from transformers import AutoModelForCausalLM, AutoTokenizer\n",
        "import torch\n",
        "df = pd.read_csv('/Users/pckiousis/Downloads/Greek_Parliament_Proceedings_1989_2019.csv')\n",
        "df.head(5)"
      ]
    },
    {
      "cell_type": "code",
      "execution_count": null,
      "id": "f55cad74",
      "metadata": {
        "id": "f55cad74",
        "outputId": "6156d1bb-d486-4852-965f-fb9979fa4f10"
      },
      "outputs": [
        {
          "data": {
            "text/plain": [
              "1194407"
            ]
          },
          "execution_count": 3,
          "metadata": {},
          "output_type": "execute_result"
        }
      ],
      "source": [
        "len(df)"
      ]
    },
    {
      "cell_type": "code",
      "execution_count": null,
      "id": "2e283726",
      "metadata": {
        "id": "2e283726",
        "outputId": "26798e37-fcb8-4ac7-edcb-2a0f651a37ff"
      },
      "outputs": [
        {
          "data": {
            "text/plain": [
              "' Παρακαλείται ο Γραμματέας κ. Βουλγαράκης να συνοδεύσει το Μακαριότατο Αρχιεπίσκοπο Αθηνών και πάσης Ελλάδος κ. ΣΕΡΑΦΕΙΜ και τα συνοδεύοντα αυτόν μέλη της Ιεράς Συνόδου κατά την είσοδό τους στην Αίθουσα της Βουλής, προκειμένου να τελεσθεί αγιασμός.  . Στη συνέχεια τελείται ο καθιερωμένος αγιασμός.'"
            ]
          },
          "execution_count": 5,
          "metadata": {},
          "output_type": "execute_result"
        }
      ],
      "source": [
        "df.iloc[0].speech"
      ]
    },
    {
      "cell_type": "markdown",
      "id": "c1a07617",
      "metadata": {
        "id": "c1a07617"
      },
      "source": [
        " * On the next we are going to follow the setup represented in the https://arxiv.org/pdf/2501.12826 paper and get 175 random samples. Firstly we are bound to create an annotation schema , in which title,abstract,intent,event and speech will be represented"
      ]
    },
    {
      "cell_type": "code",
      "execution_count": null,
      "id": "6df04646",
      "metadata": {
        "id": "6df04646"
      },
      "outputs": [],
      "source": [
        "sample_df = df[['speech']].dropna().sample(175, random_state=42).reset_index(drop=True)\n"
      ]
    },
    {
      "cell_type": "code",
      "execution_count": null,
      "id": "5b6749af",
      "metadata": {
        "id": "5b6749af"
      },
      "outputs": [],
      "source": [
        "sample_df['τίτλος'] = ''\n",
        "sample_df['περίληψη'] = ''\n",
        "sample_df['πρόθεση'] = ''\n",
        "sample_df['γεγονός'] = ''"
      ]
    },
    {
      "cell_type": "code",
      "execution_count": null,
      "id": "e7a4eefb",
      "metadata": {
        "id": "e7a4eefb"
      },
      "outputs": [],
      "source": [
        "sample_df = sample_df[['speech', 'τίτλος', 'περίληψη', 'πρόθεση', 'γεγονός']]"
      ]
    },
    {
      "cell_type": "code",
      "execution_count": null,
      "id": "1689f9e6",
      "metadata": {
        "id": "1689f9e6"
      },
      "outputs": [],
      "source": [
        "sample_df.to_csv('krikri_annot_sample_175.csv')\n"
      ]
    },
    {
      "cell_type": "code",
      "execution_count": null,
      "id": "f415c410",
      "metadata": {
        "id": "f415c410",
        "outputId": "30ebdf36-fb2f-4406-8a82-75bbc650f5f9"
      },
      "outputs": [
        {
          "name": "stdout",
          "output_type": "stream",
          "text": [
            "✅ Το αρχείο χωρίστηκε επιτυχώς σε τμήματα των 30 εγγραφών.\n"
          ]
        }
      ],
      "source": [
        "\n",
        "\n",
        "\n",
        "df = pd.read_csv(\"krikri_annot_sample_175.csv\")\n",
        "\n",
        "\n",
        "chunk_size = 30\n",
        "\n",
        "\n",
        "for i, start in enumerate(range(0, len(df), chunk_size)):\n",
        "    chunk = df.iloc[start:start + chunk_size]\n",
        "    chunk.to_csv(f\"krikri_chunk_{i+1}.csv\", index=False)\n",
        "\n",
        "print(\"✅ Το αρχείο χωρίστηκε επιτυχώς σε τμήματα των 30 εγγραφών.\")\n"
      ]
    },
    {
      "cell_type": "code",
      "execution_count": null,
      "id": "2c7ae037",
      "metadata": {
        "id": "2c7ae037",
        "outputId": "70d028c2-334f-4003-fe77-bbaa9d6567d4"
      },
      "outputs": [
        {
          "data": {
            "text/plain": [
              "' Εγώ θα ήθελα πάρα πολύ να μπορέσουμε να κοιτάξουμε μπροστά μας και να μην κοιτάζουμε πίσω. Αλλά, θα παρακαλέσω να μην μας κάνετε εσείς κριτική μιας πολιτικής την οποία δε διαμορφώσαμε εμείς.'"
            ]
          },
          "execution_count": 18,
          "metadata": {},
          "output_type": "execute_result"
        }
      ],
      "source": [
        "sample_df.iloc[31].speech"
      ]
    },
    {
      "cell_type": "code",
      "execution_count": null,
      "id": "9089f45d",
      "metadata": {
        "id": "9089f45d"
      },
      "outputs": [],
      "source": [
        "import pandas as pd\n",
        "df175 = pd.read_csv('labeled_175_samples.csv',sep=\";\")"
      ]
    },
    {
      "cell_type": "code",
      "execution_count": null,
      "id": "ace0cb22",
      "metadata": {
        "id": "ace0cb22"
      },
      "outputs": [],
      "source": [
        "df175['speech'] = df175['speech'].astype(str).str.replace(r'^\"(.*)\"$', r'\\1', regex=True)\n",
        "\n",
        "df175.to_csv('labeled_175_cleaned.csv', sep=',', index=False)\n"
      ]
    },
    {
      "cell_type": "code",
      "execution_count": null,
      "id": "5e896e69",
      "metadata": {
        "id": "5e896e69",
        "outputId": "b778495e-9daf-439b-e668-ff6303aa2a5d"
      },
      "outputs": [
        {
          "data": {
            "text/plain": [
              "175"
            ]
          },
          "execution_count": 13,
          "metadata": {},
          "output_type": "execute_result"
        }
      ],
      "source": [
        "len(df175)"
      ]
    },
    {
      "cell_type": "code",
      "execution_count": null,
      "id": "e3a44d5f",
      "metadata": {
        "id": "e3a44d5f",
        "outputId": "9b9a03d3-e660-450e-c155-f494e3392288"
      },
      "outputs": [
        {
          "name": "stdout",
          "output_type": "stream",
          "text": [
            "Το κατάλαβα και το αντελήφθην πάρα πολύ καλά. Σας πληροφορώ ότι μία από τις χειρότερες μορφές υποδούλωσης και κατάργησης της ίδιας της εσωτερικής ελευθερίας του ατόμου, είναι τα ναρκωτικά. Επομένως, περίμενα πραγματικά ένα νέο εργαλείο που γίνεται σε ευρωπαϊκό επίπεδο για την αντιμετώπιση της μάστιγας των ναρκωτικών, ότι αυτό το εργαλείο θα το στηρίζατε και σεις σ' αυτήν την Αίθουσα. Για τις δύο συμβάσεις διμερούς αστυνομικής συνεργασίας νομίζω ότι δεν υπάρχουν προβλήματα. Είναι συμβάσεις κλασικές, υπεγράφησαν από την προηγούμενη κυβέρνηση. Αφορούν διμερή αστυνομική συνεργασία για το οργανωμένο έγκλημα και για θέματα λαθρομετανάστευσης. Με την Πολωνία και την Ουγγαρία. Μ' αυτές τις δύο χώρες θέλω να πληροφορήσω το Σώμα ότι δεν έχουμε πράγματι ιδιαίτερα προβλήματα λαθρομετανάστευσης, έχουν όμως ιδιαίτερη για μας σημασία λόγω της θέσης τους. Και εμείς εκφράζοντας τη συνέχεια του κράτους και της πολιτείας φέρνουμε για κύρωση τις συμβάσεις, που υπέγραψε η προηγούμενη κυβέρνηση και έκανε σωστά. Για τα θέματα της λαθρομετανάστευσης, επειδή εθίγησαν, θέλω να πω μια κουβέντα. Η κυβέρνηση έχει ξεκινήσει πρόγραμμα αντιμετώπισης. Μέσα στα πλαίσια της Ευρωπαϊκής Ένωσης όπως ξέρετε στον τρίτο πυλώνα συζητήσαμε σ' αυτό το εξάμηνο την ευρωπαϊκή στρατηγική, για την αντιμετώπιση της λαθρομετανάστευσης. Και είχε την ευκαιρία η Ελλάδα να εξασφαλίσει νέες προϋποθέσεις στήριξης λόγω του ότι έχει την ευθύνη φύλαξης και των εξωτερικών συνόρων της Ευρωπαϊκής Ένωσης. Προσπαθήσαμε να δημιουργηθούν προϋποθέσεις για να ενισχυθεί η υποδομή, να αναζητηθούν δηλαδή πόροι, ώστε να ενισχυθεί η υποδομή φύλαξης των συνόρων μας. Σε εθνικό επίπεδο αναδιοργανώθηκαν οι ειδικές μονάδες φύλαξης των συνόρων με την Αλβανία και εργάζονται ικανοποιητικά σε μια πιο αποτελεσματική βάση. Πρόκειται για 13 μονάδες αποσπάσματα με πλέον σύγχρονα μέσα, περίπου 300 ατόμων. Επιπλέον προωθείται νομοσχέδιο, είναι στη φάση διυπουργικής επεξεργασίας, για την δημιουργία Σώματος συνοριακής Αστυνομίας. Δεν θέλω να πω επομένως τίποτα παραπάνω για τις δύο συμβάσεις. Να έρθω στα θέματα της EDU-EUROPOL της μονάδας για τα ναρκωτικά. Τα αντισταθμιστικά μέτρα τα οποία η Ευρωπαϊκή Ένωση παίρνει για να κλείσει το έλλειμμα ασφάλειας που δημιουργείται ιδιαίτερα από τις εξελίξεις όπως είπα, την οργάνωση του εγκλήματος και την κατάργηση των συνόρων είναι βασικά τέσσερα. Το πρώτο είναι η σύμβαση και είναι προς υπογραφή για τη διέλευση των εξωτερικών συνόρων. Το δεύτερο μέτρο έχει σχέση με τα θέματα μετανάστευσης και προσφύγων. Έχει ειδικά για τους πρόσφυγες υπογραφεί η Συνθήκη του Δουβλίνου που είναι σε φάση επικύρωσης από τα Κράτη-Μέλη. Το τρίτο είναι το ευρωπαϊκό σύστημα πληροφόρησης και τελωνειακής πληροφόρησης που έχει σχέση με το οργανωμένο έγκλημα και το τέταρτο και βασικό είναι η δημιουργία της EUROPOL, για την οποία μάλιστα προχθές συζητήσαμε, κύριε Κόρακα, ότι θα πρέπει να ανοίξει ένας διάλογος συνεργασίας της σε μονιμότερη βάση την EUROPOL. Η σύμβαση για την EUROPOL προωθήθηκε το εξάμηνο της προεδρίας μας. Είχε κολλήσει σε πολλά ζητήματα μεταξύ των οποίων ήταν και τα λεγόμενα οριζόντα ζητήματα. Σας είχα ενημερώσει γι' αυτά στην προηγούμενη συζήτηση κύριε Κόρακα. Αφορούν μεταξύ των άλλων την προστασία των δεδομένων, και το ρόλο του ευρωπαϊκού δικαστηρίου. Είναι στόχος να υπογραφεί η σύμβαση τον Οκτώβριο στη διάρκεια της Γερμανικής Προεδρίας. Χρειάζεται επεξεργασία ακόμα και μετά την υπογραφή θα έρθει στα εθνικά Κοινοβούλια. Η σύμβαση για την οποία μιλάμε σήμερα αφορά τη μονάδα για τα ναρκωτικά. Όλοι οι φόβοι που εκφράστηκαν από τον κ. Κόρακα δεν έχουν βάση. Την απάντηση τη δίνει η ίδια η σύμβαση. Διάβασαν άρθρα οι προλαλήσαντες συνάδελφοι και αναφέρθηκαν σε συγκεκριμένες ρυθμίσεις. Θέλω να επαναλάβω για να γίνει σαφές, ότι δεν πρόκειται για επιχειρησιακή μονάδα, γιατί ερωτήθηκε ποιος θα την συντονίζει, ποιος θα την κατευθύνει. Δεν κάνει επιχειρήσεις. Πρόκειται για μία μονάδα ανταλλαγής πληροφοριών, ανάλυσης πληροφοριών και δεδομένων. Και επειδή ετέθη το ερώτημα για τις πληροφορίες, λέω πως η ανταλλαγή πληροφοριών δεν αφορά προσωπικά στοιχεία του ατόμου, αφορά όσα έχουν σχέση με την εμπορία και τη δραστηριότητα των ναρκωτικών γενικά. Είναι ξεκαθαρισμένο και αυτό προκύπτει από το κείμενο της σύμβασης. Δεύτερο στοιχείο, για να το ξεκαθαρίσουμε. Όλη αυτή η διαδικασία ανταλλαγής πληροφοριών γίνεται στα πλαίσια των εθνικών νόμων. Και όλοι αναφέρονται, κύριε Κόρακα, ουσιαστικά στους υπουργούς και συνολικά στο συμβούλιο Υπουργών, πολιτικό δηλ. όργανο. Δεν μπορεί να γίνει τίποτε χωρίς την έγκριση των Υπουργών σε κάθε χώρα για να μπορεί να μεταδοθούν τα στοιχεία και δεν μπορεί να γίνει καμία κίνηση σε επίπεδο ENDU-EUROPOL, χωρίς την έγκριση του συμβουλίου Υπουργών. Τρίτον, δεν τίθεται θέμα αναίρεσης διμερών συμφωνιών ή της διεθνούς συνεργασίας, δηλαδή δεν τίθενται προβλήματα συνεργασίας των Κρατών-Μελών με την ΙΝΤΕRPOL. Τουναντίον ενισχύεται αυτή η συνεργασία. Τέταρτον, για την προστασία των δεδομένων προβλέπεται, ό,τι ισχύει στις εθνικές νομοθεσίες, ότι ισχύει σε κάθε κράτος. Επομένως νομίζω ότι κανένα ζήτημα δεν τίθεται για την κύρωση αυτών των συμβάσεων. Και των δύο που αναφέρονται σε αστυνομική συνεργασία και στη σύμβαση για την EDU-EUROPOL. Για τη EDU-EUROPOL μάλιστα προχθές, με επιμονή της Προεδρίας και ύστερα από πολλές δυσκολίες ορίσαμε το συντονιστή, διορίστηκε ο συντονιστής. Η EDU-EUROPOL άρχισε να δουλεύει, έχουν σταλεί οι σύνδεσμοι, οι αξιωματικοί σύνδεσμοι και σε καμία περίπτωση δεν δικαιολογούμεθα για άλλη καθυστέρηση. Πολύ περισσότερο όταν η μάστιγα των ναρκωτικών πλέον μας απειλεί ως παγόβουνο. Δεν είναι μόνο η κορυφή που συνήθως βλέπουμε με μερικούς θανάτους. Υπάρχει ολόκληρο το παγόβουνο το οποίο απειλεί με ναυάγιο τμήματα των κοινωνιών και ιδιαίτερα τα νεότερα μέλη των κοινωνιών. Βλέπουμε πολλές φορές, την κορυφή, μας πιάνει πολλές φορές πανικός ή εντυπωσιαζόμαστε από κάποια γεγονότα τα οποία μπορούν να έλθουν και συγκεντρωμένα. Ξεχνάμε όμως το μεγάλο παγόβουνο που υπάρχει μόνιμα και μας απειλεί. Στην Ευρώπη υπάρχουν 1.000.000 περίπου ναρκομανείς -αυτά είναι πρόσφατα στοιχεία- 5.000.000 έχουν κάνει έστω και μία φορά χρήση ναρκωτικών. Το εμπόριο ναρκωτικών πέφτει πλέον σε χέρια οργανωμένα. Διακινούνται τεράστια ποσά, μιλάμε για 300 δισ. δολάρια σε παγκόσμιο επίπεδο. Διασυνδέεται με το υπόλοιπο έγκλημα, ξέπλυμα χρημάτων και άλλες μορφές οργανωμένου εγκλήματος. Είναι πλέον μια ορατή απειλή. Θα είμαστε κατώτεροι των περιστάσεων και σε επίπεδο πολιτικό, κατώτεροι της εμπιστοσύνης που έδειξε σε όλους μας ο Ελληνικός Λαός, αν δεν κάνουμε ταχύτατα, χωρίς δισταγμούς, χωρίς προκαταλήψεις, χωρίς δογματισμούς, με θάρρος και αυτοπεποίθηση, τα βήματα εκείνα που συνιστά η ανάγκη αντιμετώπισης του οργανωμένου εγκλήματος, της μάστιγας των ναρκωτικών, που είναι η κυριότερη μορφή του. Προς αυτήν την κατεύθυνση πιστεύω ότι οι συμβάσεις που κυρώνουμε σήμερα είναι ένα σημαντικό βήμα, είναι ένα σημαντικό εργαλείο. Ζητώ από το Σώμα την ψήφισή τους. Ευχαριστώ, κύριε Πρόεδρε.\n"
          ]
        }
      ],
      "source": [
        "print(df175.iloc[9].speech)"
      ]
    },
    {
      "cell_type": "code",
      "execution_count": 1,
      "id": "0Rea1sphjrwy",
      "metadata": {
        "colab": {
          "base_uri": "https://localhost:8080/",
          "height": 470
        },
        "id": "0Rea1sphjrwy",
        "outputId": "123e0fa6-f554-4baa-8be1-8dcbd390de53"
      },
      "outputs": [
        {
          "name": "stdout",
          "output_type": "stream",
          "text": [
            "Index(['speech', 'τίτλος', 'περίληψη', 'πρόθεση', 'γεγονός'], dtype='object')\n"
          ]
        },
        {
          "data": {
            "application/vnd.google.colaboratory.intrinsic+json": {
              "summary": "{\n  \"name\": \"df175\",\n  \"rows\": 175,\n  \"fields\": [\n    {\n      \"column\": \"speech\",\n      \"properties\": {\n        \"dtype\": \"string\",\n        \"num_unique_values\": 157,\n        \"samples\": [\n          \"\\u0395\\u03c5\\u03c7\\u03b1\\u03c1\\u03b9\\u03c3\\u03c4\\u03bf\\u03cd\\u03bc\\u03b5 \\u03c4\\u03bf\\u03bd \\u03ba. \\u03c3\\u03c5\\u03bd\\u03ac\\u03b4\\u03b5\\u03bb\\u03c6\\u03bf.\\t\\u039f \\u03ba. \\u03a3\\u03c4\\u03c1\\u03b1\\u03c4\\u03ac\\u03ba\\u03b7\\u03c2 \\u03ad\\u03c7\\u03b5\\u03b9 \\u03c4\\u03bf \\u03bb\\u03cc\\u03b3\\u03bf.\",\n          \"\\u039f \\u03ba. \\u039d\\u03ac\\u03ba\\u03bf\\u03c2 \\u03ad\\u03c7\\u03b5\\u03b9 \\u03c4\\u03bf \\u03bb\\u03cc\\u03b3\\u03bf.\",\n          \"\\u039d\\u03b1 \\u03b1\\u03bd\\u03b1\\u03ba\\u03b1\\u03bb\\u03ad\\u03c3\\u03b5\\u03c4\\u03b5 \\u03b1\\u03c5\\u03c4\\u03cc \\u03c0\\u03bf\\u03c5 \\u03b5\\u03af\\u03c0\\u03b1\\u03c4\\u03b5 \\u03b3\\u03b9\\u03b1 \\u03c4\\u03b7\\u03bd \\u0391\\u03bd\\u03c4\\u03b9\\u03c0\\u03bf\\u03bb\\u03af\\u03c4\\u03b5\\u03c5\\u03c3\\u03b7.\"\n        ],\n        \"semantic_type\": \"\",\n        \"description\": \"\"\n      }\n    },\n    {\n      \"column\": \"\\u03c4\\u03af\\u03c4\\u03bb\\u03bf\\u03c2\",\n      \"properties\": {\n        \"dtype\": \"string\",\n        \"num_unique_values\": 159,\n        \"samples\": [\n          \"\\u0395\\u03c5\\u03c7\\u03ad\\u03c2 \\u03b3\\u03b9\\u03b1 \\u03bc\\u03b9\\u03b1 \\u03b4\\u03b9\\u03b1\\u03c6\\u03bf\\u03c1\\u03b5\\u03c4\\u03b9\\u03ba\\u03ae \\u03bd\\u03ad\\u03b1 \\u03c7\\u03c1\\u03bf\\u03bd\\u03b9\\u03ac\",\n          \"\\u0391\\u03c0\\u03ac\\u03bd\\u03c4\\u03b7\\u03c3\\u03b7 \\u03b3\\u03b9\\u03b1 \\u03bf\\u03b9\\u03ba\\u03bf\\u03bd\\u03bf\\u03bc\\u03b9\\u03ba\\u03ac \\u03b6\\u03b7\\u03c4\\u03ae\\u03bc\\u03b1\\u03c4\\u03b1 \\u03b1\\u03b3\\u03c1\\u03bf\\u03c4\\u03ce\\u03bd\",\n          \"\\u0391\\u03af\\u03c4\\u03b7\\u03bc\\u03b1 \\u03b3\\u03b9\\u03b1 \\u03b5\\u03c6\\u03b1\\u03c1\\u03bc\\u03bf\\u03b3\\u03ae \\u03ba\\u03b1\\u03bd\\u03bf\\u03bd\\u03b9\\u03c3\\u03bc\\u03bf\\u03cd\"\n        ],\n        \"semantic_type\": \"\",\n        \"description\": \"\"\n      }\n    },\n    {\n      \"column\": \"\\u03c0\\u03b5\\u03c1\\u03af\\u03bb\\u03b7\\u03c8\\u03b7\",\n      \"properties\": {\n        \"dtype\": \"string\",\n        \"num_unique_values\": 161,\n        \"samples\": [\n          \"\\u039f \\u03bf\\u03bc\\u03b9\\u03bb\\u03b7\\u03c4\\u03ae\\u03c2 \\u03b1\\u03bd\\u03c4\\u03b9\\u03b4\\u03c1\\u03ac \\u03b5\\u03bd\\u03bf\\u03c7\\u03bb\\u03b7\\u03bc\\u03ad\\u03bd\\u03bf\\u03c2 \\u03c3\\u03b5 \\u03b1\\u03af\\u03c4\\u03b7\\u03bc\\u03b1 \\u03b3\\u03b9\\u03b1 \\u03c0\\u03c1\\u03bf\\u03c3\\u03c9\\u03c0\\u03b9\\u03ba\\u03cc \\u03b6\\u03ae\\u03c4\\u03b7\\u03bc\\u03b1 \\u03ba\\u03b1\\u03b9 \\u03b6\\u03b7\\u03c4\\u03ac \\u03b4\\u03b9\\u03b5\\u03c5\\u03ba\\u03c1\\u03af\\u03bd\\u03b9\\u03c3\\u03b7\",\n          \"\\u039f \\u03bf\\u03bc\\u03b9\\u03bb\\u03b7\\u03c4\\u03ae\\u03c2 \\u03b5\\u03ba\\u03c6\\u03c1\\u03ac\\u03b6\\u03b5\\u03b9 \\u03b3\\u03bd\\u03ce\\u03bc\\u03b7 \\u03ae \\u03c5\\u03c0\\u03b5\\u03bd\\u03b8\\u03cd\\u03bc\\u03b9\\u03c3\\u03b7 \\u03cc\\u03c4\\u03b9 \\u03ba\\u03ac\\u03c4\\u03b9 \\u03ad\\u03c7\\u03b5\\u03b9 \\u03ae\\u03b4\\u03b7 \\u03c8\\u03b7\\u03c6\\u03b9\\u03c3\\u03c4\\u03b5\\u03af.\",\n          \"\\u039f \\u03bf\\u03bc\\u03b9\\u03bb\\u03b7\\u03c4\\u03ae\\u03c2 \\u03b1\\u03bd\\u03b1\\u03c6\\u03ad\\u03c1\\u03b5\\u03c4\\u03b1\\u03b9 \\u03c3\\u03b5 \\u03c4\\u03b7\\u03bb\\u03b5\\u03bf\\u03c0\\u03c4\\u03b9\\u03ba\\u03ae \\u03b4\\u03ae\\u03bb\\u03c9\\u03c3\\u03b7 \\u03c4\\u03bf\\u03c5 \\u03a5\\u03c0\\u03bf\\u03c5\\u03c1\\u03b3\\u03bf\\u03cd \\u03ba\\u03b1\\u03b9 \\u03c3\\u03c7\\u03bf\\u03bb\\u03b9\\u03ac\\u03b6\\u03b5\\u03b9 \\u03c4\\u03b7 \\u03c3\\u03c4\\u03ac\\u03c3\\u03b7 \\u03b1\\u03c0\\u03ad\\u03bd\\u03b1\\u03bd\\u03c4\\u03b9 \\u03c3\\u03c4\\u03b7 \\u03bd\\u03b5\\u03bf\\u03bb\\u03b1\\u03af\\u03b1.\"\n        ],\n        \"semantic_type\": \"\",\n        \"description\": \"\"\n      }\n    },\n    {\n      \"column\": \"\\u03c0\\u03c1\\u03cc\\u03b8\\u03b5\\u03c3\\u03b7\",\n      \"properties\": {\n        \"dtype\": \"category\",\n        \"num_unique_values\": 33,\n        \"samples\": [\n          \"\\u03bd\\u03bf\\u03bc\\u03b9\\u03ba\\u03ae \\u03b4\\u03b9\\u03b5\\u03c5\\u03ba\\u03c1\\u03af\\u03bd\\u03b9\\u03c3\\u03b7 \",\n          \"\\u03ba\\u03c1\\u03b9\\u03c4\\u03b9\\u03ba\\u03ae\",\n          \"\\u03b4\\u03b9\\u03b1\\u03c4\\u03ae\\u03c1\\u03b7\\u03c3\\u03b7 \"\n        ],\n        \"semantic_type\": \"\",\n        \"description\": \"\"\n      }\n    },\n    {\n      \"column\": \"\\u03b3\\u03b5\\u03b3\\u03bf\\u03bd\\u03cc\\u03c2\",\n      \"properties\": {\n        \"dtype\": \"string\",\n        \"num_unique_values\": 113,\n        \"samples\": [\n          \"\\u03c0\\u03b1\\u03c1\\u03bf\\u03c5\\u03c3\\u03af\\u03b1\\u03c3\\u03b7 \\u03b5\\u03c1\\u03ce\\u03c4\\u03b7\\u03c3\\u03b7\\u03c2 \",\n          \"\\u03b1\\u03c0\\u03bf\\u03b4\\u03bf\\u03c7\\u03ae\",\n          \"\\u03a3\\u03c5\\u03b6\\u03ae\\u03c4\\u03b7\\u03c3\\u03b7 \\u03b3\\u03b9\\u03b1 \\u03b1\\u03bd\\u03b1\\u03b4\\u03c1\\u03bf\\u03bc\\u03b9\\u03ba\\u03ae \\u03b9\\u03c3\\u03c7\\u03cd \\u03c1\\u03cd\\u03b8\\u03bc\\u03b9\\u03c3\\u03b7\\u03c2\"\n        ],\n        \"semantic_type\": \"\",\n        \"description\": \"\"\n      }\n    }\n  ]\n}",
              "type": "dataframe",
              "variable_name": "df175"
            },
            "text/html": [
              "\n",
              "  <div id=\"df-d3c0b335-b39f-4383-8702-701963b4b15a\" class=\"colab-df-container\">\n",
              "    <div>\n",
              "<style scoped>\n",
              "    .dataframe tbody tr th:only-of-type {\n",
              "        vertical-align: middle;\n",
              "    }\n",
              "\n",
              "    .dataframe tbody tr th {\n",
              "        vertical-align: top;\n",
              "    }\n",
              "\n",
              "    .dataframe thead th {\n",
              "        text-align: right;\n",
              "    }\n",
              "</style>\n",
              "<table border=\"1\" class=\"dataframe\">\n",
              "  <thead>\n",
              "    <tr style=\"text-align: right;\">\n",
              "      <th></th>\n",
              "      <th>speech</th>\n",
              "      <th>τίτλος</th>\n",
              "      <th>περίληψη</th>\n",
              "      <th>πρόθεση</th>\n",
              "      <th>γεγονός</th>\n",
              "    </tr>\n",
              "  </thead>\n",
              "  <tbody>\n",
              "    <tr>\n",
              "      <th>0</th>\n",
              "      <td>Παρών.</td>\n",
              "      <td>Δήλωση παρουσίας</td>\n",
              "      <td>Ο βουλευτής δηλώνει την παρουσία του κατά την ...</td>\n",
              "      <td>διαδικαστικό</td>\n",
              "      <td>καταγραφή παρουσιών</td>\n",
              "    </tr>\n",
              "    <tr>\n",
              "      <th>1</th>\n",
              "      <td>Κατά πλειοψηφία.</td>\n",
              "      <td>Απόφαση κατά πλειοψηφία</td>\n",
              "      <td>Ανακοίνωση ότι η απόφαση ελήφθη με πλειοψηφία.</td>\n",
              "      <td>ανακοίνωση</td>\n",
              "      <td>ψήφιση</td>\n",
              "    </tr>\n",
              "    <tr>\n",
              "      <th>2</th>\n",
              "      <td>Το λόγο έχει ο Υπουργός κ. Λιάπης.</td>\n",
              "      <td>Ανάθεση λόγου σε Υπουργό</td>\n",
              "      <td>Ο Πρόεδρος δίνει το λόγο στον Υπουργό για παρέ...</td>\n",
              "      <td>διαδικαστικό</td>\n",
              "      <td>παραχώρηση λόγου</td>\n",
              "    </tr>\n",
              "    <tr>\n",
              "      <th>3</th>\n",
              "      <td>Ναι.</td>\n",
              "      <td>Θετική ψήφος</td>\n",
              "      <td>Ο βουλευτής δηλώνει τη θετική του ψήφο.</td>\n",
              "      <td>ψηφοφορία</td>\n",
              "      <td>απάντηση ψήφου</td>\n",
              "    </tr>\n",
              "    <tr>\n",
              "      <th>4</th>\n",
              "      <td>Δεκτό, δεκτό.</td>\n",
              "      <td>Έγκριση πρότασης</td>\n",
              "      <td>Ο Πρόεδρος ανακοινώνει την αποδοχή πρότασης ή ...</td>\n",
              "      <td>αποδοχή</td>\n",
              "      <td>αποδοχή</td>\n",
              "    </tr>\n",
              "  </tbody>\n",
              "</table>\n",
              "</div>\n",
              "    <div class=\"colab-df-buttons\">\n",
              "\n",
              "  <div class=\"colab-df-container\">\n",
              "    <button class=\"colab-df-convert\" onclick=\"convertToInteractive('df-d3c0b335-b39f-4383-8702-701963b4b15a')\"\n",
              "            title=\"Convert this dataframe to an interactive table.\"\n",
              "            style=\"display:none;\">\n",
              "\n",
              "  <svg xmlns=\"http://www.w3.org/2000/svg\" height=\"24px\" viewBox=\"0 -960 960 960\">\n",
              "    <path d=\"M120-120v-720h720v720H120Zm60-500h600v-160H180v160Zm220 220h160v-160H400v160Zm0 220h160v-160H400v160ZM180-400h160v-160H180v160Zm440 0h160v-160H620v160ZM180-180h160v-160H180v160Zm440 0h160v-160H620v160Z\"/>\n",
              "  </svg>\n",
              "    </button>\n",
              "\n",
              "  <style>\n",
              "    .colab-df-container {\n",
              "      display:flex;\n",
              "      gap: 12px;\n",
              "    }\n",
              "\n",
              "    .colab-df-convert {\n",
              "      background-color: #E8F0FE;\n",
              "      border: none;\n",
              "      border-radius: 50%;\n",
              "      cursor: pointer;\n",
              "      display: none;\n",
              "      fill: #1967D2;\n",
              "      height: 32px;\n",
              "      padding: 0 0 0 0;\n",
              "      width: 32px;\n",
              "    }\n",
              "\n",
              "    .colab-df-convert:hover {\n",
              "      background-color: #E2EBFA;\n",
              "      box-shadow: 0px 1px 2px rgba(60, 64, 67, 0.3), 0px 1px 3px 1px rgba(60, 64, 67, 0.15);\n",
              "      fill: #174EA6;\n",
              "    }\n",
              "\n",
              "    .colab-df-buttons div {\n",
              "      margin-bottom: 4px;\n",
              "    }\n",
              "\n",
              "    [theme=dark] .colab-df-convert {\n",
              "      background-color: #3B4455;\n",
              "      fill: #D2E3FC;\n",
              "    }\n",
              "\n",
              "    [theme=dark] .colab-df-convert:hover {\n",
              "      background-color: #434B5C;\n",
              "      box-shadow: 0px 1px 3px 1px rgba(0, 0, 0, 0.15);\n",
              "      filter: drop-shadow(0px 1px 2px rgba(0, 0, 0, 0.3));\n",
              "      fill: #FFFFFF;\n",
              "    }\n",
              "  </style>\n",
              "\n",
              "    <script>\n",
              "      const buttonEl =\n",
              "        document.querySelector('#df-d3c0b335-b39f-4383-8702-701963b4b15a button.colab-df-convert');\n",
              "      buttonEl.style.display =\n",
              "        google.colab.kernel.accessAllowed ? 'block' : 'none';\n",
              "\n",
              "      async function convertToInteractive(key) {\n",
              "        const element = document.querySelector('#df-d3c0b335-b39f-4383-8702-701963b4b15a');\n",
              "        const dataTable =\n",
              "          await google.colab.kernel.invokeFunction('convertToInteractive',\n",
              "                                                    [key], {});\n",
              "        if (!dataTable) return;\n",
              "\n",
              "        const docLinkHtml = 'Like what you see? Visit the ' +\n",
              "          '<a target=\"_blank\" href=https://colab.research.google.com/notebooks/data_table.ipynb>data table notebook</a>'\n",
              "          + ' to learn more about interactive tables.';\n",
              "        element.innerHTML = '';\n",
              "        dataTable['output_type'] = 'display_data';\n",
              "        await google.colab.output.renderOutput(dataTable, element);\n",
              "        const docLink = document.createElement('div');\n",
              "        docLink.innerHTML = docLinkHtml;\n",
              "        element.appendChild(docLink);\n",
              "      }\n",
              "    </script>\n",
              "  </div>\n",
              "\n",
              "\n",
              "    <div id=\"df-1c32d2b0-3d13-4625-b7c2-8823de79f573\">\n",
              "      <button class=\"colab-df-quickchart\" onclick=\"quickchart('df-1c32d2b0-3d13-4625-b7c2-8823de79f573')\"\n",
              "                title=\"Suggest charts\"\n",
              "                style=\"display:none;\">\n",
              "\n",
              "<svg xmlns=\"http://www.w3.org/2000/svg\" height=\"24px\"viewBox=\"0 0 24 24\"\n",
              "     width=\"24px\">\n",
              "    <g>\n",
              "        <path d=\"M19 3H5c-1.1 0-2 .9-2 2v14c0 1.1.9 2 2 2h14c1.1 0 2-.9 2-2V5c0-1.1-.9-2-2-2zM9 17H7v-7h2v7zm4 0h-2V7h2v10zm4 0h-2v-4h2v4z\"/>\n",
              "    </g>\n",
              "</svg>\n",
              "      </button>\n",
              "\n",
              "<style>\n",
              "  .colab-df-quickchart {\n",
              "      --bg-color: #E8F0FE;\n",
              "      --fill-color: #1967D2;\n",
              "      --hover-bg-color: #E2EBFA;\n",
              "      --hover-fill-color: #174EA6;\n",
              "      --disabled-fill-color: #AAA;\n",
              "      --disabled-bg-color: #DDD;\n",
              "  }\n",
              "\n",
              "  [theme=dark] .colab-df-quickchart {\n",
              "      --bg-color: #3B4455;\n",
              "      --fill-color: #D2E3FC;\n",
              "      --hover-bg-color: #434B5C;\n",
              "      --hover-fill-color: #FFFFFF;\n",
              "      --disabled-bg-color: #3B4455;\n",
              "      --disabled-fill-color: #666;\n",
              "  }\n",
              "\n",
              "  .colab-df-quickchart {\n",
              "    background-color: var(--bg-color);\n",
              "    border: none;\n",
              "    border-radius: 50%;\n",
              "    cursor: pointer;\n",
              "    display: none;\n",
              "    fill: var(--fill-color);\n",
              "    height: 32px;\n",
              "    padding: 0;\n",
              "    width: 32px;\n",
              "  }\n",
              "\n",
              "  .colab-df-quickchart:hover {\n",
              "    background-color: var(--hover-bg-color);\n",
              "    box-shadow: 0 1px 2px rgba(60, 64, 67, 0.3), 0 1px 3px 1px rgba(60, 64, 67, 0.15);\n",
              "    fill: var(--button-hover-fill-color);\n",
              "  }\n",
              "\n",
              "  .colab-df-quickchart-complete:disabled,\n",
              "  .colab-df-quickchart-complete:disabled:hover {\n",
              "    background-color: var(--disabled-bg-color);\n",
              "    fill: var(--disabled-fill-color);\n",
              "    box-shadow: none;\n",
              "  }\n",
              "\n",
              "  .colab-df-spinner {\n",
              "    border: 2px solid var(--fill-color);\n",
              "    border-color: transparent;\n",
              "    border-bottom-color: var(--fill-color);\n",
              "    animation:\n",
              "      spin 1s steps(1) infinite;\n",
              "  }\n",
              "\n",
              "  @keyframes spin {\n",
              "    0% {\n",
              "      border-color: transparent;\n",
              "      border-bottom-color: var(--fill-color);\n",
              "      border-left-color: var(--fill-color);\n",
              "    }\n",
              "    20% {\n",
              "      border-color: transparent;\n",
              "      border-left-color: var(--fill-color);\n",
              "      border-top-color: var(--fill-color);\n",
              "    }\n",
              "    30% {\n",
              "      border-color: transparent;\n",
              "      border-left-color: var(--fill-color);\n",
              "      border-top-color: var(--fill-color);\n",
              "      border-right-color: var(--fill-color);\n",
              "    }\n",
              "    40% {\n",
              "      border-color: transparent;\n",
              "      border-right-color: var(--fill-color);\n",
              "      border-top-color: var(--fill-color);\n",
              "    }\n",
              "    60% {\n",
              "      border-color: transparent;\n",
              "      border-right-color: var(--fill-color);\n",
              "    }\n",
              "    80% {\n",
              "      border-color: transparent;\n",
              "      border-right-color: var(--fill-color);\n",
              "      border-bottom-color: var(--fill-color);\n",
              "    }\n",
              "    90% {\n",
              "      border-color: transparent;\n",
              "      border-bottom-color: var(--fill-color);\n",
              "    }\n",
              "  }\n",
              "</style>\n",
              "\n",
              "      <script>\n",
              "        async function quickchart(key) {\n",
              "          const quickchartButtonEl =\n",
              "            document.querySelector('#' + key + ' button');\n",
              "          quickchartButtonEl.disabled = true;  // To prevent multiple clicks.\n",
              "          quickchartButtonEl.classList.add('colab-df-spinner');\n",
              "          try {\n",
              "            const charts = await google.colab.kernel.invokeFunction(\n",
              "                'suggestCharts', [key], {});\n",
              "          } catch (error) {\n",
              "            console.error('Error during call to suggestCharts:', error);\n",
              "          }\n",
              "          quickchartButtonEl.classList.remove('colab-df-spinner');\n",
              "          quickchartButtonEl.classList.add('colab-df-quickchart-complete');\n",
              "        }\n",
              "        (() => {\n",
              "          let quickchartButtonEl =\n",
              "            document.querySelector('#df-1c32d2b0-3d13-4625-b7c2-8823de79f573 button');\n",
              "          quickchartButtonEl.style.display =\n",
              "            google.colab.kernel.accessAllowed ? 'block' : 'none';\n",
              "        })();\n",
              "      </script>\n",
              "    </div>\n",
              "\n",
              "    </div>\n",
              "  </div>\n"
            ],
            "text/plain": [
              "                               speech                    τίτλος  \\\n",
              "0                              Παρών.          Δήλωση παρουσίας   \n",
              "1                    Κατά πλειοψηφία.   Απόφαση κατά πλειοψηφία   \n",
              "2  Το λόγο έχει ο Υπουργός κ. Λιάπης.  Ανάθεση λόγου σε Υπουργό   \n",
              "3                                Ναι.              Θετική ψήφος   \n",
              "4                       Δεκτό, δεκτό.          Έγκριση πρότασης   \n",
              "\n",
              "                                            περίληψη       πρόθεση  \\\n",
              "0  Ο βουλευτής δηλώνει την παρουσία του κατά την ...  διαδικαστικό   \n",
              "1     Ανακοίνωση ότι η απόφαση ελήφθη με πλειοψηφία.    ανακοίνωση   \n",
              "2  Ο Πρόεδρος δίνει το λόγο στον Υπουργό για παρέ...  διαδικαστικό   \n",
              "3            Ο βουλευτής δηλώνει τη θετική του ψήφο.     ψηφοφορία   \n",
              "4  Ο Πρόεδρος ανακοινώνει την αποδοχή πρότασης ή ...       αποδοχή   \n",
              "\n",
              "               γεγονός  \n",
              "0  καταγραφή παρουσιών  \n",
              "1               ψήφιση  \n",
              "2     παραχώρηση λόγου  \n",
              "3       απάντηση ψήφου  \n",
              "4              αποδοχή  "
            ]
          },
          "execution_count": 1,
          "metadata": {},
          "output_type": "execute_result"
        }
      ],
      "source": [
        "import pandas as pd\n",
        "df175 = pd.read_csv(\"labeled_175_cleaned.csv\")\n",
        "\n",
        "\n",
        "print(df175.columns)\n",
        "df175.head()\n"
      ]
    },
    {
      "cell_type": "code",
      "execution_count": 2,
      "id": "fOZpEyFDkM3i",
      "metadata": {
        "colab": {
          "base_uri": "https://localhost:8080/",
          "height": 206
        },
        "id": "fOZpEyFDkM3i",
        "outputId": "f2d3e7b8-e9ca-4ff9-f740-a361fd985613"
      },
      "outputs": [
        {
          "data": {
            "application/vnd.google.colaboratory.intrinsic+json": {
              "summary": "{\n  \"name\": \"speeches_intents\",\n  \"rows\": 175,\n  \"fields\": [\n    {\n      \"column\": \"speech\",\n      \"properties\": {\n        \"dtype\": \"string\",\n        \"num_unique_values\": 157,\n        \"samples\": [\n          \"\\u0395\\u03c5\\u03c7\\u03b1\\u03c1\\u03b9\\u03c3\\u03c4\\u03bf\\u03cd\\u03bc\\u03b5 \\u03c4\\u03bf\\u03bd \\u03ba. \\u03c3\\u03c5\\u03bd\\u03ac\\u03b4\\u03b5\\u03bb\\u03c6\\u03bf.\\t\\u039f \\u03ba. \\u03a3\\u03c4\\u03c1\\u03b1\\u03c4\\u03ac\\u03ba\\u03b7\\u03c2 \\u03ad\\u03c7\\u03b5\\u03b9 \\u03c4\\u03bf \\u03bb\\u03cc\\u03b3\\u03bf.\",\n          \"\\u039f \\u03ba. \\u039d\\u03ac\\u03ba\\u03bf\\u03c2 \\u03ad\\u03c7\\u03b5\\u03b9 \\u03c4\\u03bf \\u03bb\\u03cc\\u03b3\\u03bf.\",\n          \"\\u039d\\u03b1 \\u03b1\\u03bd\\u03b1\\u03ba\\u03b1\\u03bb\\u03ad\\u03c3\\u03b5\\u03c4\\u03b5 \\u03b1\\u03c5\\u03c4\\u03cc \\u03c0\\u03bf\\u03c5 \\u03b5\\u03af\\u03c0\\u03b1\\u03c4\\u03b5 \\u03b3\\u03b9\\u03b1 \\u03c4\\u03b7\\u03bd \\u0391\\u03bd\\u03c4\\u03b9\\u03c0\\u03bf\\u03bb\\u03af\\u03c4\\u03b5\\u03c5\\u03c3\\u03b7.\"\n        ],\n        \"semantic_type\": \"\",\n        \"description\": \"\"\n      }\n    },\n    {\n      \"column\": \"\\u03c0\\u03c1\\u03cc\\u03b8\\u03b5\\u03c3\\u03b7\",\n      \"properties\": {\n        \"dtype\": \"category\",\n        \"num_unique_values\": 33,\n        \"samples\": [\n          \"\\u03bd\\u03bf\\u03bc\\u03b9\\u03ba\\u03ae \\u03b4\\u03b9\\u03b5\\u03c5\\u03ba\\u03c1\\u03af\\u03bd\\u03b9\\u03c3\\u03b7 \",\n          \"\\u03ba\\u03c1\\u03b9\\u03c4\\u03b9\\u03ba\\u03ae\",\n          \"\\u03b4\\u03b9\\u03b1\\u03c4\\u03ae\\u03c1\\u03b7\\u03c3\\u03b7 \"\n        ],\n        \"semantic_type\": \"\",\n        \"description\": \"\"\n      }\n    }\n  ]\n}",
              "type": "dataframe",
              "variable_name": "speeches_intents"
            },
            "text/html": [
              "\n",
              "  <div id=\"df-873f1970-9bc8-43f6-88b0-1d59346e5d7b\" class=\"colab-df-container\">\n",
              "    <div>\n",
              "<style scoped>\n",
              "    .dataframe tbody tr th:only-of-type {\n",
              "        vertical-align: middle;\n",
              "    }\n",
              "\n",
              "    .dataframe tbody tr th {\n",
              "        vertical-align: top;\n",
              "    }\n",
              "\n",
              "    .dataframe thead th {\n",
              "        text-align: right;\n",
              "    }\n",
              "</style>\n",
              "<table border=\"1\" class=\"dataframe\">\n",
              "  <thead>\n",
              "    <tr style=\"text-align: right;\">\n",
              "      <th></th>\n",
              "      <th>speech</th>\n",
              "      <th>πρόθεση</th>\n",
              "    </tr>\n",
              "  </thead>\n",
              "  <tbody>\n",
              "    <tr>\n",
              "      <th>0</th>\n",
              "      <td>Παρών.</td>\n",
              "      <td>διαδικαστικό</td>\n",
              "    </tr>\n",
              "    <tr>\n",
              "      <th>1</th>\n",
              "      <td>Κατά πλειοψηφία.</td>\n",
              "      <td>ανακοίνωση</td>\n",
              "    </tr>\n",
              "    <tr>\n",
              "      <th>2</th>\n",
              "      <td>Το λόγο έχει ο Υπουργός κ. Λιάπης.</td>\n",
              "      <td>διαδικαστικό</td>\n",
              "    </tr>\n",
              "    <tr>\n",
              "      <th>3</th>\n",
              "      <td>Ναι.</td>\n",
              "      <td>ψηφοφορία</td>\n",
              "    </tr>\n",
              "    <tr>\n",
              "      <th>4</th>\n",
              "      <td>Δεκτό, δεκτό.</td>\n",
              "      <td>αποδοχή</td>\n",
              "    </tr>\n",
              "  </tbody>\n",
              "</table>\n",
              "</div>\n",
              "    <div class=\"colab-df-buttons\">\n",
              "\n",
              "  <div class=\"colab-df-container\">\n",
              "    <button class=\"colab-df-convert\" onclick=\"convertToInteractive('df-873f1970-9bc8-43f6-88b0-1d59346e5d7b')\"\n",
              "            title=\"Convert this dataframe to an interactive table.\"\n",
              "            style=\"display:none;\">\n",
              "\n",
              "  <svg xmlns=\"http://www.w3.org/2000/svg\" height=\"24px\" viewBox=\"0 -960 960 960\">\n",
              "    <path d=\"M120-120v-720h720v720H120Zm60-500h600v-160H180v160Zm220 220h160v-160H400v160Zm0 220h160v-160H400v160ZM180-400h160v-160H180v160Zm440 0h160v-160H620v160ZM180-180h160v-160H180v160Zm440 0h160v-160H620v160Z\"/>\n",
              "  </svg>\n",
              "    </button>\n",
              "\n",
              "  <style>\n",
              "    .colab-df-container {\n",
              "      display:flex;\n",
              "      gap: 12px;\n",
              "    }\n",
              "\n",
              "    .colab-df-convert {\n",
              "      background-color: #E8F0FE;\n",
              "      border: none;\n",
              "      border-radius: 50%;\n",
              "      cursor: pointer;\n",
              "      display: none;\n",
              "      fill: #1967D2;\n",
              "      height: 32px;\n",
              "      padding: 0 0 0 0;\n",
              "      width: 32px;\n",
              "    }\n",
              "\n",
              "    .colab-df-convert:hover {\n",
              "      background-color: #E2EBFA;\n",
              "      box-shadow: 0px 1px 2px rgba(60, 64, 67, 0.3), 0px 1px 3px 1px rgba(60, 64, 67, 0.15);\n",
              "      fill: #174EA6;\n",
              "    }\n",
              "\n",
              "    .colab-df-buttons div {\n",
              "      margin-bottom: 4px;\n",
              "    }\n",
              "\n",
              "    [theme=dark] .colab-df-convert {\n",
              "      background-color: #3B4455;\n",
              "      fill: #D2E3FC;\n",
              "    }\n",
              "\n",
              "    [theme=dark] .colab-df-convert:hover {\n",
              "      background-color: #434B5C;\n",
              "      box-shadow: 0px 1px 3px 1px rgba(0, 0, 0, 0.15);\n",
              "      filter: drop-shadow(0px 1px 2px rgba(0, 0, 0, 0.3));\n",
              "      fill: #FFFFFF;\n",
              "    }\n",
              "  </style>\n",
              "\n",
              "    <script>\n",
              "      const buttonEl =\n",
              "        document.querySelector('#df-873f1970-9bc8-43f6-88b0-1d59346e5d7b button.colab-df-convert');\n",
              "      buttonEl.style.display =\n",
              "        google.colab.kernel.accessAllowed ? 'block' : 'none';\n",
              "\n",
              "      async function convertToInteractive(key) {\n",
              "        const element = document.querySelector('#df-873f1970-9bc8-43f6-88b0-1d59346e5d7b');\n",
              "        const dataTable =\n",
              "          await google.colab.kernel.invokeFunction('convertToInteractive',\n",
              "                                                    [key], {});\n",
              "        if (!dataTable) return;\n",
              "\n",
              "        const docLinkHtml = 'Like what you see? Visit the ' +\n",
              "          '<a target=\"_blank\" href=https://colab.research.google.com/notebooks/data_table.ipynb>data table notebook</a>'\n",
              "          + ' to learn more about interactive tables.';\n",
              "        element.innerHTML = '';\n",
              "        dataTable['output_type'] = 'display_data';\n",
              "        await google.colab.output.renderOutput(dataTable, element);\n",
              "        const docLink = document.createElement('div');\n",
              "        docLink.innerHTML = docLinkHtml;\n",
              "        element.appendChild(docLink);\n",
              "      }\n",
              "    </script>\n",
              "  </div>\n",
              "\n",
              "\n",
              "    <div id=\"df-16404f4d-3374-439d-b0d4-dd5d27e5cdaa\">\n",
              "      <button class=\"colab-df-quickchart\" onclick=\"quickchart('df-16404f4d-3374-439d-b0d4-dd5d27e5cdaa')\"\n",
              "                title=\"Suggest charts\"\n",
              "                style=\"display:none;\">\n",
              "\n",
              "<svg xmlns=\"http://www.w3.org/2000/svg\" height=\"24px\"viewBox=\"0 0 24 24\"\n",
              "     width=\"24px\">\n",
              "    <g>\n",
              "        <path d=\"M19 3H5c-1.1 0-2 .9-2 2v14c0 1.1.9 2 2 2h14c1.1 0 2-.9 2-2V5c0-1.1-.9-2-2-2zM9 17H7v-7h2v7zm4 0h-2V7h2v10zm4 0h-2v-4h2v4z\"/>\n",
              "    </g>\n",
              "</svg>\n",
              "      </button>\n",
              "\n",
              "<style>\n",
              "  .colab-df-quickchart {\n",
              "      --bg-color: #E8F0FE;\n",
              "      --fill-color: #1967D2;\n",
              "      --hover-bg-color: #E2EBFA;\n",
              "      --hover-fill-color: #174EA6;\n",
              "      --disabled-fill-color: #AAA;\n",
              "      --disabled-bg-color: #DDD;\n",
              "  }\n",
              "\n",
              "  [theme=dark] .colab-df-quickchart {\n",
              "      --bg-color: #3B4455;\n",
              "      --fill-color: #D2E3FC;\n",
              "      --hover-bg-color: #434B5C;\n",
              "      --hover-fill-color: #FFFFFF;\n",
              "      --disabled-bg-color: #3B4455;\n",
              "      --disabled-fill-color: #666;\n",
              "  }\n",
              "\n",
              "  .colab-df-quickchart {\n",
              "    background-color: var(--bg-color);\n",
              "    border: none;\n",
              "    border-radius: 50%;\n",
              "    cursor: pointer;\n",
              "    display: none;\n",
              "    fill: var(--fill-color);\n",
              "    height: 32px;\n",
              "    padding: 0;\n",
              "    width: 32px;\n",
              "  }\n",
              "\n",
              "  .colab-df-quickchart:hover {\n",
              "    background-color: var(--hover-bg-color);\n",
              "    box-shadow: 0 1px 2px rgba(60, 64, 67, 0.3), 0 1px 3px 1px rgba(60, 64, 67, 0.15);\n",
              "    fill: var(--button-hover-fill-color);\n",
              "  }\n",
              "\n",
              "  .colab-df-quickchart-complete:disabled,\n",
              "  .colab-df-quickchart-complete:disabled:hover {\n",
              "    background-color: var(--disabled-bg-color);\n",
              "    fill: var(--disabled-fill-color);\n",
              "    box-shadow: none;\n",
              "  }\n",
              "\n",
              "  .colab-df-spinner {\n",
              "    border: 2px solid var(--fill-color);\n",
              "    border-color: transparent;\n",
              "    border-bottom-color: var(--fill-color);\n",
              "    animation:\n",
              "      spin 1s steps(1) infinite;\n",
              "  }\n",
              "\n",
              "  @keyframes spin {\n",
              "    0% {\n",
              "      border-color: transparent;\n",
              "      border-bottom-color: var(--fill-color);\n",
              "      border-left-color: var(--fill-color);\n",
              "    }\n",
              "    20% {\n",
              "      border-color: transparent;\n",
              "      border-left-color: var(--fill-color);\n",
              "      border-top-color: var(--fill-color);\n",
              "    }\n",
              "    30% {\n",
              "      border-color: transparent;\n",
              "      border-left-color: var(--fill-color);\n",
              "      border-top-color: var(--fill-color);\n",
              "      border-right-color: var(--fill-color);\n",
              "    }\n",
              "    40% {\n",
              "      border-color: transparent;\n",
              "      border-right-color: var(--fill-color);\n",
              "      border-top-color: var(--fill-color);\n",
              "    }\n",
              "    60% {\n",
              "      border-color: transparent;\n",
              "      border-right-color: var(--fill-color);\n",
              "    }\n",
              "    80% {\n",
              "      border-color: transparent;\n",
              "      border-right-color: var(--fill-color);\n",
              "      border-bottom-color: var(--fill-color);\n",
              "    }\n",
              "    90% {\n",
              "      border-color: transparent;\n",
              "      border-bottom-color: var(--fill-color);\n",
              "    }\n",
              "  }\n",
              "</style>\n",
              "\n",
              "      <script>\n",
              "        async function quickchart(key) {\n",
              "          const quickchartButtonEl =\n",
              "            document.querySelector('#' + key + ' button');\n",
              "          quickchartButtonEl.disabled = true;  // To prevent multiple clicks.\n",
              "          quickchartButtonEl.classList.add('colab-df-spinner');\n",
              "          try {\n",
              "            const charts = await google.colab.kernel.invokeFunction(\n",
              "                'suggestCharts', [key], {});\n",
              "          } catch (error) {\n",
              "            console.error('Error during call to suggestCharts:', error);\n",
              "          }\n",
              "          quickchartButtonEl.classList.remove('colab-df-spinner');\n",
              "          quickchartButtonEl.classList.add('colab-df-quickchart-complete');\n",
              "        }\n",
              "        (() => {\n",
              "          let quickchartButtonEl =\n",
              "            document.querySelector('#df-16404f4d-3374-439d-b0d4-dd5d27e5cdaa button');\n",
              "          quickchartButtonEl.style.display =\n",
              "            google.colab.kernel.accessAllowed ? 'block' : 'none';\n",
              "        })();\n",
              "      </script>\n",
              "    </div>\n",
              "\n",
              "    </div>\n",
              "  </div>\n"
            ],
            "text/plain": [
              "                               speech       πρόθεση\n",
              "0                              Παρών.  διαδικαστικό\n",
              "1                    Κατά πλειοψηφία.    ανακοίνωση\n",
              "2  Το λόγο έχει ο Υπουργός κ. Λιάπης.  διαδικαστικό\n",
              "3                                Ναι.     ψηφοφορία\n",
              "4                       Δεκτό, δεκτό.       αποδοχή"
            ]
          },
          "execution_count": 2,
          "metadata": {},
          "output_type": "execute_result"
        }
      ],
      "source": [
        "speeches_intents=pd.read_csv(\"speech_intent_dataset.csv\")\n",
        "speeches_intents.head(5)"
      ]
    },
    {
      "cell_type": "code",
      "execution_count": 3,
      "id": "vFfRa-PjxZjS",
      "metadata": {
        "colab": {
          "base_uri": "https://localhost:8080/"
        },
        "id": "vFfRa-PjxZjS",
        "outputId": "839f4558-dd7d-49f4-9ce3-7a93f733b204"
      },
      "outputs": [
        {
          "name": "stdout",
          "output_type": "stream",
          "text": [
            "33\n",
            "['διαδικαστικό', 'ανακοίνωση', 'ψηφοφορία', 'αποδοχή', 'πολιτική τοποθέτηση', 'αντιπαράθεση', 'ενημέρωση', 'αντίδραση', 'πληροφόρηση', 'υπεράσπιση', 'απόρριψη', 'διακοπή', 'αίτημα', 'διευκρίνιση', 'κατηγορία', 'κριτική', 'απάντηση', 'δήλωση θέσης', 'διευκόλυνση', 'ευαισθητοποίηση', 'άγνωστο', 'ερώτηση', 'παρέμβαση', 'στήριξη', 'καταγγελία', 'έναρξη ', 'διατήρηση ', 'ευχές ', 'αναμονή', 'άρνηση', 'σχόλιο', 'νομική διευκρίνιση ', 'υπενθύμιση']\n"
          ]
        }
      ],
      "source": [
        "INTENTS=list(speeches_intents.πρόθεση.unique())\n",
        "print(len(INTENTS))\n",
        "print(INTENTS)"
      ]
    },
    {
      "cell_type": "code",
      "execution_count": 16,
      "id": "iRFyovZOyxuw",
      "metadata": {
        "colab": {
          "base_uri": "https://localhost:8080/",
          "height": 67,
          "referenced_widgets": [
            "cbc0a994e5094a2eb79f93fdd755c956",
            "66c1b6e8a66842c7ab70992a3a88e2d5",
            "514cd9829bfe4e06bf4133d01b199d78",
            "fd562d5d6a0145bab2d7f4782e4ab901",
            "903fd30840d64df086e6e8a023b33dc2",
            "a28aa2ca5c4f4d8da42317b85fef20d0",
            "cee29d044e354c268d8be4ff5482f2ca",
            "d4ba4bfc4589445bad7c9225cb637724",
            "bad570d8f0674316bd0915869af2e9a0",
            "82606cfa974b4697943d1c001c7e2dce",
            "f79db8f90bb042c8a15e6b171717a5e1"
          ]
        },
        "id": "iRFyovZOyxuw",
        "outputId": "3a3682a3-e689-456a-80d8-891332b2daf6"
      },
      "outputs": [
        {
          "data": {
            "application/vnd.jupyter.widget-view+json": {
              "model_id": "cbc0a994e5094a2eb79f93fdd755c956",
              "version_major": 2,
              "version_minor": 0
            },
            "text/plain": [
              "Loading checkpoint shards:   0%|          | 0/4 [00:00<?, ?it/s]"
            ]
          },
          "metadata": {},
          "output_type": "display_data"
        },
        {
          "name": "stderr",
          "output_type": "stream",
          "text": [
            "Device set to use cuda:0\n"
          ]
        }
      ],
      "source": [
        "import pandas as pd\n",
        "from transformers import AutoTokenizer, AutoModelForCausalLM, pipeline\n",
        "\n",
        "\n",
        "template = open(\"fewshot_prompt_template.txt\", encoding=\"utf-8\").read()\n",
        "df = pd.read_csv(\"Mapped_Speech_Intents.csv\")\n",
        "\n",
        "\n",
        "df[\"prompt\"] = df[\"speech\"].apply(lambda x: template.replace(\"{speech}\", x))\n",
        "\n",
        "\n",
        "model_name = \"ilsp/Llama-Krikri-8B-Instruct\"\n",
        "tokenizer = AutoTokenizer.from_pretrained(model_name)\n",
        "model = AutoModelForCausalLM.from_pretrained(model_name, device_map=\"auto\", torch_dtype=\"auto\")\n",
        "generator = pipeline(\"text-generation\", model=model, tokenizer=tokenizer, max_new_tokens=5, return_full_text=False)\n",
        "\n",
        "def clean_prediction(text):\n",
        "\n",
        "    return text.strip().split()[0].split('\\n')[0]\n",
        "\n",
        "df[\"prediction\"] = df[\"prompt\"].apply(lambda x: clean_prediction(generator(x)[0][\"generated_text\"]))\n",
        "\n",
        "\n",
        "df[[\"speech\", \"ευρεία_κατηγορία\", \"prediction\"]].to_csv(\"krikri_fewshot_predictions.csv\", index=False)"
      ]
    },
    {
      "cell_type": "code",
      "execution_count": 19,
      "id": "BL46kg-b-AMt",
      "metadata": {
        "id": "BL46kg-b-AMt"
      },
      "outputs": [],
      "source": [
        "valid_intents = [\n",
        "    \"διαδικασία\", \"ψήφος\", \"ανακοίνωση\",\n",
        "    \"τοποθέτηση\", \"ερώτηση\", \"ενημέρωση\"\n",
        "]\n",
        "\n",
        "\n",
        "df_clean = df[df[\"prediction\"].isin(valid_intents)].copy()\n",
        "\n",
        "df_clean = df_clean.dropna(subset=[\"ευρεία_κατηγορία\", \"prediction\"])\n",
        "df_clean = df_clean[(df_clean[\"ευρεία_κατηγορία\"] != \"\") & (df_clean[\"prediction\"] != \"\")]\n"
      ]
    },
    {
      "cell_type": "code",
      "execution_count": 20,
      "id": "dewY07x-_gvK",
      "metadata": {
        "colab": {
          "base_uri": "https://localhost:8080/"
        },
        "id": "dewY07x-_gvK",
        "outputId": "e0ac727d-0751-42b2-891a-eb591539ba3c"
      },
      "outputs": [
        {
          "name": "stdout",
          "output_type": "stream",
          "text": [
            "              precision    recall  f1-score   support\n",
            "\n",
            "  ανακοίνωση       0.75      0.67      0.71        18\n",
            "  διαδικασία       0.69      0.84      0.76        32\n",
            "   ενημέρωση       0.40      0.17      0.24        12\n",
            "     ερώτηση       0.39      0.64      0.48        11\n",
            "  τοποθέτηση       0.67      0.69      0.68        58\n",
            "       ψήφος       0.75      0.40      0.52        15\n",
            "\n",
            "    accuracy                           0.64       146\n",
            "   macro avg       0.61      0.57      0.56       146\n",
            "weighted avg       0.65      0.64      0.63       146\n",
            "\n"
          ]
        }
      ],
      "source": [
        "from sklearn.metrics import classification_report\n",
        "\n",
        "print(classification_report(\n",
        "    y_true=df_clean[\"ευρεία_κατηγορία\"],\n",
        "    y_pred=df_clean[\"prediction\"],\n",
        "    digits=2,\n",
        "    zero_division=0\n",
        "))\n"
      ]
    },
    {
      "cell_type": "code",
      "execution_count": 21,
      "id": "kSkt4GiXJhdr",
      "metadata": {
        "id": "kSkt4GiXJhdr"
      },
      "outputs": [],
      "source": [
        "from sklearn.metrics import confusion_matrix, ConfusionMatrixDisplay\n",
        "\n",
        "\n",
        "labels = [\"διαδικασία\", \"ψήφος\", \"ανακοίνωση\", \"τοποθέτηση\", \"ερώτηση\", \"ενημέρωση\"]\n",
        "\n",
        "\n",
        "cm = confusion_matrix(\n",
        "    y_true=df_clean[\"ευρεία_κατηγορία\"],\n",
        "    y_pred=df_clean[\"prediction\"],\n",
        "    labels=labels\n",
        ")\n"
      ]
    },
    {
      "cell_type": "code",
      "execution_count": 22,
      "id": "Etr7BaaHJjx4",
      "metadata": {
        "colab": {
          "base_uri": "https://localhost:8080/",
          "height": 576
        },
        "id": "Etr7BaaHJjx4",
        "outputId": "250b8274-5ba9-4341-c53f-29334e65fc18"
      },
      "outputs": [
        {
          "data": {
            "image/png": "[encoded data removed]",
            "text/plain": [
              "<Figure size 800x600 with 2 Axes>"
            ]
          },
          "metadata": {},
          "output_type": "display_data"
        }
      ],
      "source": [
        "import matplotlib.pyplot as plt\n",
        "\n",
        "\n",
        "disp = ConfusionMatrixDisplay(confusion_matrix=cm, display_labels=labels)\n",
        "fig, ax = plt.subplots(figsize=(8, 6))\n",
        "disp.plot(ax=ax, cmap=\"Blues\", xticks_rotation=45)\n",
        "plt.title(\"Confusion Matrix\")\n",
        "plt.grid(False)\n",
        "plt.show()\n"
      ]
    },
    {
      "cell_type": "markdown",
      "id": "qNbntIZn1d-k",
      "metadata": {
        "id": "qNbntIZn1d-k"
      },
      "source": []
    }
  ],
  "metadata": {
    "accelerator": "GPU",
    "colab": {
      "gpuType": "A100",
      "machine_shape": "hm",
      "provenance": []
    },
    "kernelspec": {
      "display_name": "Python 3",
      "name": "python3"
    },
    "language_info": {
      "codemirror_mode": {
        "name": "ipython",
        "version": 3
      },
      "file_extension": ".py",
      "mimetype": "text/x-python",
      "name": "python",
      "nbconvert_exporter": "python",
      "pygments_lexer": "ipython3",
      "version": "3.12.7"
    }   
  },
  "nbformat": 4,
  "nbformat_minor": 5
}
