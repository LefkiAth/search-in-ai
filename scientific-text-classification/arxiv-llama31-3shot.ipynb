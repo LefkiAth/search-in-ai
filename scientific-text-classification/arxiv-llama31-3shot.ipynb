{
  "cells": [
    {
      "cell_type": "markdown",
      "metadata": {
        "id": "94TOJwPIdkIu"
      },
      "source": [
        "### Prerequisites:\n",
        "\n",
        " - We will use [pandas](https://pandas.pydata.org/docs/) for data processing,\n",
        " - and Meta's open-source LLM [Llama 3.1](https://huggingface.co/meta-llama/Llama-3.1-8B-Instruct) for prompting and few-shot learning.\n",
        "- All experiments will be performed on the [arXiv Dataset](https://www.kaggle.com/datasets/Cornell-University/arxiv/code)."
      ]
    },
    {
      "cell_type": "code",
      "execution_count": 1,
      "metadata": {
        "id": "tVbl18cTdkIv"
      },
      "outputs": [],
      "source": [
        "%%capture\n",
        "# install dependecies:\n",
        "!pip install numpy torch pandas scikit-learn transformers tqdm kagglehub"
      ]
    },
    {
      "cell_type": "markdown",
      "metadata": {
        "id": "nicCrRowdkIw"
      },
      "source": [
        "### Data processing"
      ]
    },
    {
      "cell_type": "code",
      "execution_count": 131,
      "metadata": {
        "colab": {
          "base_uri": "https://localhost:8080/",
          "height": 115
        },
        "id": "IoyLzjt9dkIw",
        "outputId": "f7cd1e40-29df-4309-a1c1-ec592dbc9f04"
      },
      "outputs": [
        {
          "name": "stderr",
          "output_type": "stream",
          "text": [
            "/tmp/ipykernel_1804109/144700196.py:6: DeprecationWarning: load_dataset is deprecated and will be removed in a future version.\n",
            "  data = kagglehub.load_dataset(\n"
          ]
        },
        {
          "data": {
            "text/html": [
              "<div>\n",
              "<style scoped>\n",
              "    .dataframe tbody tr th:only-of-type {\n",
              "        vertical-align: middle;\n",
              "    }\n",
              "\n",
              "    .dataframe tbody tr th {\n",
              "        vertical-align: top;\n",
              "    }\n",
              "\n",
              "    .dataframe thead th {\n",
              "        text-align: right;\n",
              "    }\n",
              "</style>\n",
              "<table border=\"1\" class=\"dataframe\">\n",
              "  <thead>\n",
              "    <tr style=\"text-align: right;\">\n",
              "      <th></th>\n",
              "      <th>id</th>\n",
              "      <th>submitter</th>\n",
              "      <th>authors</th>\n",
              "      <th>title</th>\n",
              "      <th>comments</th>\n",
              "      <th>journal-ref</th>\n",
              "      <th>doi</th>\n",
              "      <th>report-no</th>\n",
              "      <th>categories</th>\n",
              "      <th>license</th>\n",
              "      <th>abstract</th>\n",
              "      <th>versions</th>\n",
              "      <th>update_date</th>\n",
              "      <th>authors_parsed</th>\n",
              "      <th>category</th>\n",
              "    </tr>\n",
              "  </thead>\n",
              "  <tbody>\n",
              "    <tr>\n",
              "      <th>1511534</th>\n",
              "      <td>2108.02719</td>\n",
              "      <td>Sam Raskin</td>\n",
              "      <td>Joakim Faergeman, Sam Raskin</td>\n",
              "      <td>The Arinkin-Gaitsgory temperedness conjecture</td>\n",
              "      <td>None</td>\n",
              "      <td>None</td>\n",
              "      <td>None</td>\n",
              "      <td>None</td>\n",
              "      <td>math.AG math.RT</td>\n",
              "      <td>http://creativecommons.org/licenses/by/4.0/</td>\n",
              "      <td>Arinkin and Gaitsgory defined a category of ...</td>\n",
              "      <td>[{'version': 'v1', 'created': 'Thu, 5 Aug 2021...</td>\n",
              "      <td>2021-08-06</td>\n",
              "      <td>[[Faergeman, Joakim, ], [Raskin, Sam, ]]</td>\n",
              "      <td>math.AG</td>\n",
              "    </tr>\n",
              "  </tbody>\n",
              "</table>\n",
              "</div>"
            ],
            "text/plain": [
              "                 id   submitter                       authors  \\\n",
              "1511534  2108.02719  Sam Raskin  Joakim Faergeman, Sam Raskin   \n",
              "\n",
              "                                                 title comments journal-ref  \\\n",
              "1511534  The Arinkin-Gaitsgory temperedness conjecture     None        None   \n",
              "\n",
              "          doi report-no       categories  \\\n",
              "1511534  None      None  math.AG math.RT   \n",
              "\n",
              "                                             license  \\\n",
              "1511534  http://creativecommons.org/licenses/by/4.0/   \n",
              "\n",
              "                                                  abstract  \\\n",
              "1511534    Arinkin and Gaitsgory defined a category of ...   \n",
              "\n",
              "                                                  versions update_date  \\\n",
              "1511534  [{'version': 'v1', 'created': 'Thu, 5 Aug 2021...  2021-08-06   \n",
              "\n",
              "                                   authors_parsed category  \n",
              "1511534  [[Faergeman, Joakim, ], [Raskin, Sam, ]]  math.AG  "
            ]
          },
          "execution_count": 131,
          "metadata": {},
          "output_type": "execute_result"
        }
      ],
      "source": [
        "import kagglehub\n",
        "from kagglehub import KaggleDatasetAdapter\n",
        "\n",
        "file_path = \"arxiv-metadata-oai-snapshot.json\"\n",
        "\n",
        "data = kagglehub.load_dataset(\n",
        "  KaggleDatasetAdapter.PANDAS,\n",
        "  \"Cornell-University/arxiv\",\n",
        "  file_path,\n",
        "  pandas_kwargs={\"lines\": True}  \n",
        ")\n",
        "data['category'] = data['categories'].str.split().str[0]\n",
        "data = data.sample(50000, random_state=42)  \n",
        "\n",
        "data.sample()"
      ]
    },
    {
      "cell_type": "markdown",
      "metadata": {
        "id": "0qVzQH-QqVh1"
      },
      "source": [
        "We use the `category` from the `title` of the scientific article as the target label to predict:"
      ]
    },
    {
      "cell_type": "code",
      "execution_count": 134,
      "metadata": {
        "id": "fbLufFw4qWCT"
      },
      "outputs": [],
      "source": [
        "# select input and label from data:\n",
        "X = data['title'].to_numpy()\n",
        "y = data['category'].to_numpy()"
      ]
    },
    {
      "cell_type": "code",
      "execution_count": 135,
      "metadata": {},
      "outputs": [
        {
          "name": "stdout",
          "output_type": "stream",
          "text": [
            "Most common classes:  ['hep-ph', 'cs.CV', 'quant-ph', 'hep-th', 'cs.LG', 'astro-ph', 'gr-qc', 'cs.CL', 'cond-mat.mtrl-sci', 'cond-mat.mes-hall']\n"
          ]
        }
      ],
      "source": [
        "# find the most 10 frequent classes and keep only those:\n",
        "from collections import Counter\n",
        "\n",
        "counter = Counter(y)\n",
        "most_common_classes = [cls for cls, count in counter.most_common(10)]\n",
        "print('Most common classes: ', most_common_classes) \n",
        "\n",
        "idxs = [i for i, label in enumerate(y) if label not in most_common_classes]\n",
        "X = [x for i, x in enumerate(X) if i not in idxs]\n",
        "y = [label for i, label in enumerate(y) if i not in idxs]"
      ]
    },
    {
      "cell_type": "code",
      "execution_count": 136,
      "metadata": {
        "colab": {
          "base_uri": "https://localhost:8080/"
        },
        "id": "7MHsECIMdkIx",
        "outputId": "7fe7f09a-4272-4443-ae25-c6bed12ddac0"
      },
      "outputs": [
        {
          "name": "stdout",
          "output_type": "stream",
          "text": [
            "Size of test set :  1735\n",
            "Size of train set:  15614\n",
            "Classes:  10\n"
          ]
        }
      ],
      "source": [
        "from sklearn.model_selection import train_test_split\n",
        "\n",
        "# create test set:\n",
        "X_train, X_test, y_train, y_test = train_test_split(X, y, test_size=.1, random_state=42, shuffle=True, stratify=y)\n",
        "print('Size of test set : ', len(X_test))\n",
        "print('Size of train set: ', len(X_train))\n",
        "classes = set(y_train)\n",
        "print('Classes: ', len(classes))"
      ]
    },
    {
      "cell_type": "code",
      "execution_count": 137,
      "metadata": {},
      "outputs": [],
      "source": [
        "# convert classes to integers:\n",
        "classes_index = {cls: str(i) for i, cls in enumerate(classes)}\n",
        "classes = [str(i) for i in range(len(classes))]\n",
        "y_train = [classes_index[label] for label in y_train]\n",
        "y_test = [classes_index[label] for label in y_test]"
      ]
    },
    {
      "cell_type": "markdown",
      "metadata": {},
      "source": [
        "### Random Example Fetcher"
      ]
    },
    {
      "cell_type": "code",
      "execution_count": 138,
      "metadata": {},
      "outputs": [],
      "source": [
        "import numpy as np\n",
        "\n",
        "def fetch_random_train_vectors(train_vectors, k=1, seed=None):\n",
        "    \"\"\"\n",
        "    Randomly select k indices from the training set.\n",
        "\n",
        "    Args:\n",
        "        train_vectors: A matrix or array representing training data (used only to determine size).\n",
        "        k: Number of random indices to select.\n",
        "        seed: Optional random seed for reproducibility.\n",
        "\n",
        "    Returns:\n",
        "        A list of k random indices from the training set.\n",
        "    \"\"\"\n",
        "    if seed is not None:\n",
        "        np.random.seed(seed)\n",
        "        \n",
        "    n = len(train_vectors)\n",
        "    return np.random.choice(n, size=k, replace=False)"
      ]
    },
    {
      "cell_type": "markdown",
      "metadata": {
        "id": "eUUmLpWddkIx"
      },
      "source": [
        "### Sparse Frquency-based Embeddings for Similarity"
      ]
    },
    {
      "cell_type": "markdown",
      "metadata": {
        "id": "rMV4DC7tokui"
      },
      "source": [
        "We import TfidfVectorizer from `sklearn.feature_extraction.text` and use it to create and fit a TF-IDF input embedding on the `X_train` data. Since `TfidfVectorizer.transform(...)` returns a sparse matrix."
      ]
    },
    {
      "cell_type": "code",
      "execution_count": 139,
      "metadata": {
        "id": "b1dvbfa5h9JI"
      },
      "outputs": [],
      "source": [
        "from sklearn.feature_extraction.text import TfidfVectorizer\n",
        "# create and train input embedding:\n",
        "tfidf = TfidfVectorizer().fit(X_train)"
      ]
    },
    {
      "cell_type": "code",
      "execution_count": 140,
      "metadata": {
        "id": "epQ9tqH1zcCB"
      },
      "outputs": [],
      "source": [
        "from sklearn.metrics.pairwise import cosine_similarity\n",
        "import numpy as np\n",
        "\n",
        "def fetch_most_similar_train_vectors(test_vector, train_vectors, k=1):\n",
        "    \"\"\"\n",
        "    For a given test TF-IDF vector, find the k most similar train TF-IDF vectors\n",
        "    using cosine similarity.\n",
        "\n",
        "    Args:\n",
        "        test_vector: The TF-IDF vector for a single test instance.\n",
        "        train_vectors: A sparse matrix of TF-IDF vectors for the training set.\n",
        "        k: The number of most similar vectors to return.\n",
        "\n",
        "    Returns:\n",
        "        A list of indices of the k most similar train vectors.\n",
        "    \"\"\"\n",
        "    # Calculate cosine similarity between the test vector and all train vectors\n",
        "    # Reshape test_vector to be a 2D array for cosine_similarity\n",
        "    similarities = cosine_similarity(test_vector.reshape(1, -1), train_vectors)\n",
        "\n",
        "    # Get the indices of the top k most similar vectors\n",
        "    # Use argsort to get indices in ascending order, then slice the last k\n",
        "    # Flatten similarities to a 1D array for argsort\n",
        "    most_similar_indices = np.argsort(similarities.flatten())[-k:]\n",
        "\n",
        "    return most_similar_indices[::-1] # Return indices in descending order of similarity"
      ]
    },
    {
      "cell_type": "code",
      "execution_count": 141,
      "metadata": {
        "colab": {
          "base_uri": "https://localhost:8080/"
        },
        "id": "OFHgLU9rz5F5",
        "outputId": "38964f72-1799-4286-9063-b208c388534a"
      },
      "outputs": [
        {
          "name": "stdout",
          "output_type": "stream",
          "text": [
            "Most similar train indices for the first test sample\n",
            "'WINHAC - the Monte Carlo event generator for single W-boson production\n",
            "  in hadronic collisions' (n=3):[12952 12971  4632]\n",
            "\n",
            "1 Recent developments in Monte-Carlo Event Generators\n",
            "2 Non-linear Quantum Monte Carlo\n",
            "3 Comparison of hybrid and pure Monte Carlo shower generators on an event\n",
            "  by event basis\n"
          ]
        }
      ],
      "source": [
        "X_train_tfidf = tfidf.transform(X_train)\n",
        "X_test_tfidf = tfidf.transform(X_test)\n",
        "\n",
        "t = X_test_tfidf[0] # test text\n",
        "n = 3 # shots\n",
        "similar_indices = fetch_most_similar_train_vectors(t, X_train_tfidf, k=n)\n",
        "print(f\"Most similar train indices for the first test sample\\n'{X_test[0]}' (n={n}):{similar_indices}\\n\")\n",
        "for i, idx in enumerate(similar_indices): print(i+1, X_train[idx])"
      ]
    },
    {
      "cell_type": "markdown",
      "metadata": {
        "id": "SyqodIIqw6E3"
      },
      "source": [
        "### Instantiate Llama"
      ]
    },
    {
      "cell_type": "markdown",
      "metadata": {
        "id": "vQNERTiou3P1"
      },
      "source": [
        "In order to be able to use huggingface's Llama 3.1 models, we first need to log in to huggingface (you can request access to the model [here](https://huggingface.co/meta-llama/Llama-3.1-8B-Instruct))."
      ]
    },
    {
      "cell_type": "code",
      "execution_count": 14,
      "metadata": {
        "colab": {
          "base_uri": "https://localhost:8080/"
        },
        "id": "y0WB5Pod2ugE",
        "outputId": "d9a52b17-fc6d-47b8-d083-88192bf5f7ee"
      },
      "outputs": [],
      "source": [
        "import getpass\n",
        "from huggingface_hub import login\n",
        "login(getpass.getpass('Enter your huggingface API-key:'))"
      ]
    },
    {
      "cell_type": "markdown",
      "metadata": {
        "id": "xJ5NkTyJvdSO"
      },
      "source": [
        "In this tutorial we will use the standard huggingface textgeneration pipeline (compressed to 16 bit floating point weights) for the instruction tuned 8B parameter version of Llama 3.1."
      ]
    },
    {
      "cell_type": "code",
      "execution_count": 104,
      "metadata": {
        "id": "ucXwxitPxFR8"
      },
      "outputs": [],
      "source": [
        "%%capture\n",
        "import transformers\n",
        "import torch\n",
        "\n",
        "# create llm pipeline:\n",
        "llm = transformers.pipeline(\n",
        "    \"text-generation\",\n",
        "    model=\"meta-llama/Meta-Llama-3.1-8B-Instruct\",\n",
        "    model_kwargs={\"torch_dtype\": torch.bfloat16},\n",
        "    device_map=\"auto\"\n",
        ")\n",
        "\n",
        "# Get special tokens for later:\n",
        "bos_token_id = llm.tokenizer.convert_tokens_to_ids('<|begin_of_text|>')\n",
        "eos_token_id = llm.tokenizer.convert_tokens_to_ids('<|eot_id|>')\n",
        "pad_token_id = llm.tokenizer.convert_tokens_to_ids('<|eot_id|>')"
      ]
    },
    {
      "cell_type": "markdown",
      "metadata": {
        "id": "hP_tAmMA2-Dx"
      },
      "source": [
        "### Few-shot learning with Random Examples"
      ]
    },
    {
      "cell_type": "markdown",
      "metadata": {
        "id": "oh-ZPe28w4_6"
      },
      "source": [
        "Generate a prompt for classification using a given text and $n$ labeled examples.\n"
      ]
    },
    {
      "cell_type": "code",
      "execution_count": 147,
      "metadata": {
        "colab": {
          "base_uri": "https://localhost:8080/"
        },
        "id": "d6SPiUiR3FYX",
        "outputId": "6e53a675-235e-4338-81a6-ed949e572c95"
      },
      "outputs": [
        {
          "name": "stdout",
          "output_type": "stream",
          "text": [
            "We classify scientific article labels from texts, as in the following examples:\n",
            "\n",
            "\"Implication of nano-Hertz stochastic gravitational wave background on\n",
            "  ultralight axion particles\": 3\n",
            "\"Weak Lensing by Galaxies in Groups and Clusters: I.--Theoretical\n",
            "  Expectations\": 9\n",
            "\"Large Language Models and Emergence: A Complex Systems Perspective\": 6\n",
            "\n",
            "The valid labels are: 0, 1, 2, 3, 4, 5, 6, 7, 8, 9.\n",
            "Predict the correct label for the following text, but generate only the label and no other text.\n",
            "\n",
            "\"WINHAC - the Monte Carlo event generator for single W-boson production\n",
            "  in hadronic collisions\": \n"
          ]
        }
      ],
      "source": [
        "def get_prompt(text, shots):\n",
        "    prompt = 'We classify scientific article labels from texts, as in the following examples:\\n'\n",
        "    for x,y in shots: prompt += f'\\n\"{x}\": {y}'\n",
        "    return {\"role\": \"user\", \"content\": f'{prompt}\\n\\nThe valid labels are: {\", \".join(classes)}.\\nPredict the correct label for the following text, but generate only the label and no other text.\\n\\n\"{text}\": '}\n",
        "\n",
        "shots_idxs = fetch_random_train_vectors(X_train, k=n, seed=42)\n",
        "shots = [(X_train[idx], y_train[idx]) for idx in shots_idxs]\n",
        "prompt = get_prompt(X_test[0], shots)[\"content\"]\n",
        "print(prompt)"
      ]
    },
    {
      "cell_type": "code",
      "execution_count": 148,
      "metadata": {
        "id": "PyHhsM-a9KWi"
      },
      "outputs": [
        {
          "name": "stderr",
          "output_type": "stream",
          "text": [
            "100%|██████████| 1735/1735 [02:20<00:00, 12.33it/s]\n"
          ]
        }
      ],
      "source": [
        "from tqdm import tqdm\n",
        "\n",
        "def few_shot_learning_batch(test, test_tfidf, train, train_tfidf, y_train, n=3):\n",
        "  outputs = []\n",
        "  for i,t in tqdm(enumerate(X_test_tfidf), total=len(test)):\n",
        "      shots_idxs = fetch_random_train_vectors(train, k=n, seed=42) \n",
        "      shots = [(train[idx], y_train[idx]) for idx in shots_idxs]\n",
        "      prompt = get_prompt(test[i], shots)[\"content\"]\n",
        "      response = llm([prompt],\n",
        "                    bos_token_id=bos_token_id,\n",
        "                    eos_token_id=eos_token_id,\n",
        "                    pad_token_id=pad_token_id,\n",
        "                    max_new_tokens=1,\n",
        "                    do_sample=False,\n",
        "                    temperature=None,\n",
        "                    top_p=None)\n",
        "      label = response[0][0][\"generated_text\"].split(':')[-1].strip()\n",
        "      outputs.append(label)\n",
        "  return outputs\n",
        "\n",
        "predictions = few_shot_learning_batch(X_test, X_test_tfidf, X_train, X_train_tfidf, y_train, n=3)"
      ]
    },
    {
      "cell_type": "code",
      "execution_count": 149,
      "metadata": {
        "colab": {
          "base_uri": "https://localhost:8080/"
        },
        "id": "YwfpygiLBME-",
        "outputId": "687c2242-d05e-48d0-8de2-d0abc58456a5"
      },
      "outputs": [
        {
          "data": {
            "text/plain": [
              "['7', '5', '0', '7', '7', '0', '7', '?', '3', '6']"
            ]
          },
          "execution_count": 149,
          "metadata": {},
          "output_type": "execute_result"
        }
      ],
      "source": [
        "predictions[:10]"
      ]
    },
    {
      "cell_type": "code",
      "execution_count": 150,
      "metadata": {
        "colab": {
          "base_uri": "https://localhost:8080/",
          "height": 998
        },
        "id": "osiETZ-fAda7",
        "outputId": "2b5a07cc-4758-41dd-ec1e-40d3e008ba37"
      },
      "outputs": [
        {
          "name": "stdout",
          "output_type": "stream",
          "text": [
            "Classification Report:\n",
            "               precision    recall  f1-score   support\n",
            "\n",
            "           0       0.09      0.06      0.07       118\n",
            "           1       0.00      0.00      0.00       117\n",
            "           2       0.10      0.01      0.01       199\n",
            "           3       0.27      0.20      0.23       245\n",
            "           4       0.15      0.02      0.03       124\n",
            "           5       0.17      0.17      0.17       225\n",
            "           6       0.21      0.65      0.32       123\n",
            "           7       0.07      0.20      0.10       196\n",
            "           8       0.14      0.00      0.01       220\n",
            "           9       0.41      0.58      0.48       168\n",
            "        othe       0.00      0.00      0.00         0\n",
            "\n",
            "    accuracy                           0.18      1735\n",
            "   macro avg       0.15      0.17      0.13      1735\n",
            "weighted avg       0.17      0.18      0.14      1735\n",
            "\n",
            "Accuracy: 0.18213256484149856\n"
          ]
        },
        {
          "data": {
            "text/plain": [
              "Text(0.5, 1.0, 'Confusion Matrix')"
            ]
          },
          "execution_count": 150,
          "metadata": {},
          "output_type": "execute_result"
        },
        {
          "data": {
            "image/png": "[encoded data removed]",
            "text/plain": [
              "<Figure size 1000x700 with 2 Axes>"
            ]
          },
          "metadata": {},
          "output_type": "display_data"
        }
      ],
      "source": [
        "from sklearn.metrics import classification_report, accuracy_score, confusion_matrix\n",
        "import matplotlib.pyplot as plt\n",
        "import seaborn as sns\n",
        "\n",
        "def clean(labels, classes=classes, lim=4):\n",
        "  labels = [lbl if lbl in classes else 'other' for lbl in labels]\n",
        "  labels_short = [lbl[:lim] for lbl in labels]\n",
        "  return labels_short\n",
        "\n",
        "print(\"Classification Report:\\n\", classification_report(clean(y_test), clean(predictions), zero_division=0))\n",
        "print(\"Accuracy:\", accuracy_score(clean(y_test), clean(predictions)))\n",
        "\n",
        "# Plot confusion matrix\n",
        "cm = confusion_matrix(clean(y_test), clean(predictions))\n",
        "plt.figure(figsize=(10, 7))\n",
        "sns.heatmap(cm, annot=True, fmt='d', cmap='Blues')\n",
        "plt.xlabel('Predicted'); plt.ylabel('Actual'); plt.title('Confusion Matrix')"
      ]
    },
    {
      "cell_type": "markdown",
      "metadata": {},
      "source": [
        "### Few-shot learning with Most Similar Examples"
      ]
    },
    {
      "cell_type": "markdown",
      "metadata": {},
      "source": [
        "Generate a prompt for classification using a given text and $n$ labeled examples."
      ]
    },
    {
      "cell_type": "code",
      "execution_count": 152,
      "metadata": {
        "id": "v0nJOAIDAhlx"
      },
      "outputs": [
        {
          "name": "stdout",
          "output_type": "stream",
          "text": [
            "We classify scientific article labels from texts, as in the following examples:\n",
            "\n",
            "\"Recent developments in Monte-Carlo Event Generators\": 3\n",
            "\"Non-linear Quantum Monte Carlo\": 8\n",
            "\"Comparison of hybrid and pure Monte Carlo shower generators on an event\n",
            "  by event basis\": 9\n",
            "\n",
            "The valid labels are: 0, 1, 2, 3, 4, 5, 6, 7, 8, 9.\n",
            "Predict the correct label for the following text, but generate only the label and no other text.\n",
            "\n",
            "\"WINHAC - the Monte Carlo event generator for single W-boson production\n",
            "  in hadronic collisions\": \n"
          ]
        }
      ],
      "source": [
        "def get_prompt(text, shots):\n",
        "    prompt = 'We classify scientific article labels from texts, as in the following examples:\\n'\n",
        "    for x,y in shots: prompt += f'\\n\"{x}\": {y}'\n",
        "    return {\"role\": \"user\", \"content\": f'{prompt}\\n\\nThe valid labels are: {\", \".join(classes)}.\\nPredict the correct label for the following text, but generate only the label and no other text.\\n\\n\"{text}\": '}\n",
        "\n",
        "shots_idxs = fetch_most_similar_train_vectors(X_test_tfidf[0], X_train_tfidf, k=n)\n",
        "shots = [(X_train[idx], y_train[idx]) for idx in shots_idxs]\n",
        "prompt = get_prompt(X_test[0], shots)[\"content\"]\n",
        "print(prompt)"
      ]
    },
    {
      "cell_type": "code",
      "execution_count": 153,
      "metadata": {},
      "outputs": [
        {
          "name": "stderr",
          "output_type": "stream",
          "text": [
            "100%|██████████| 1735/1735 [02:24<00:00, 12.01it/s]\n"
          ]
        }
      ],
      "source": [
        "from tqdm import tqdm\n",
        "\n",
        "def few_shot_learning_batch(test, test_tfidf, train, train_tfidf, y_train, n=3):\n",
        "  outputs = []\n",
        "  for i,t in tqdm(enumerate(X_test_tfidf), total=len(test)):\n",
        "      shots_idxs = fetch_most_similar_train_vectors(t, train_tfidf, k=n)\n",
        "      shots = [(train[idx], y_train[idx]) for idx in shots_idxs]\n",
        "      prompt = get_prompt(test[i], shots)[\"content\"]\n",
        "      response = llm([prompt],\n",
        "                    bos_token_id=bos_token_id,\n",
        "                    eos_token_id=eos_token_id,\n",
        "                    pad_token_id=pad_token_id,\n",
        "                    max_new_tokens=1,\n",
        "                    do_sample=False,\n",
        "                    temperature=None,\n",
        "                    top_p=None)\n",
        "      label = response[0][0][\"generated_text\"].split(':')[-1].strip()\n",
        "      outputs.append(label)\n",
        "  return outputs\n",
        "\n",
        "predictions = few_shot_learning_batch(X_test, X_test_tfidf, X_train, X_train_tfidf, y_train, n=3)"
      ]
    },
    {
      "cell_type": "code",
      "execution_count": 154,
      "metadata": {},
      "outputs": [
        {
          "name": "stdout",
          "output_type": "stream",
          "text": [
            "Classification Report:\n",
            "               precision    recall  f1-score   support\n",
            "\n",
            "           0       0.40      0.42      0.41       118\n",
            "           1       0.43      0.44      0.43       117\n",
            "           2       0.60      0.41      0.49       199\n",
            "           3       0.85      0.62      0.72       245\n",
            "           4       0.60      0.32      0.42       124\n",
            "           5       0.71      0.58      0.64       225\n",
            "           6       0.76      0.58      0.65       123\n",
            "           7       0.47      0.59      0.52       196\n",
            "           8       0.57      0.67      0.61       220\n",
            "           9       0.61      0.70      0.65       168\n",
            "        othe       0.00      0.00      0.00         0\n",
            "\n",
            "    accuracy                           0.55      1735\n",
            "   macro avg       0.54      0.49      0.50      1735\n",
            "weighted avg       0.62      0.55      0.57      1735\n",
            "\n",
            "Accuracy: 0.5521613832853026\n"
          ]
        },
        {
          "data": {
            "text/plain": [
              "Text(0.5, 1.0, 'Confusion Matrix')"
            ]
          },
          "execution_count": 154,
          "metadata": {},
          "output_type": "execute_result"
        },
        {
          "data": {
            "image/png": "[encoded data removed]",
            "text/plain": [
              "<Figure size 1000x700 with 2 Axes>"
            ]
          },
          "metadata": {},
          "output_type": "display_data"
        }
      ],
      "source": [
        "from sklearn.metrics import classification_report, accuracy_score, confusion_matrix\n",
        "import matplotlib.pyplot as plt\n",
        "import seaborn as sns\n",
        "\n",
        "def clean(labels, classes=classes, lim=4):\n",
        "  labels = [lbl if lbl in classes else 'other' for lbl in labels]\n",
        "  labels_short = [lbl[:lim] for lbl in labels]\n",
        "  return labels_short\n",
        "\n",
        "print(\"Classification Report:\\n\", classification_report(clean(y_test), clean(predictions), zero_division=0))\n",
        "print(\"Accuracy:\", accuracy_score(clean(y_test), clean(predictions)))\n",
        "\n",
        "# Plot confusion matrix\n",
        "cm = confusion_matrix(clean(y_test), clean(predictions))\n",
        "plt.figure(figsize=(10, 7))\n",
        "sns.heatmap(cm, annot=True, fmt='d', cmap='Blues')\n",
        "plt.xlabel('Predicted'); plt.ylabel('Actual'); plt.title('Confusion Matrix')"
      ]
    }
  ],
  "metadata": {
    "accelerator": "GPU",
    "colab": {
      "gpuType": "L4",
      "machine_shape": "hm",
      "provenance": []
    },
    "kernelspec": {
      "display_name": ".venv",
      "language": "python",
      "name": "python3"
    },
    "language_info": {
      "codemirror_mode": {
        "name": "ipython",
        "version": 3
      },
      "file_extension": ".py",
      "mimetype": "text/x-python",
      "name": "python",
      "nbconvert_exporter": "python",
      "pygments_lexer": "ipython3",
      "version": "3.10.12"
    }
  },
  "nbformat": 4,
  "nbformat_minor": 0
}
